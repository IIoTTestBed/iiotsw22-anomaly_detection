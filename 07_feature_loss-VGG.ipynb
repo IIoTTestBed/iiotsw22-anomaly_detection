{
 "cells": [
  {
   "cell_type": "code",
   "execution_count": null,
   "id": "9b349de5-4768-4d9e-92bd-a3e2f10b6b28",
   "metadata": {},
   "outputs": [],
   "source": [
    "import fastai\n",
    "from fastai.vision.all import *\n",
    "from pathlib import Path\n",
    "from PIL import Image\n",
    "import matplotlib.pyplot as plt\n",
    "import numpy as np\n",
    "import matplotlib.cm as cm\n",
    "import cv2"
   ]
  },
  {
   "cell_type": "code",
   "execution_count": null,
   "id": "59b055de-2f86-4d6e-b07f-2be535cfbd58",
   "metadata": {},
   "outputs": [],
   "source": [
    "root_path = Path(\"mvtec_anomaly_detection/\")\n",
    "task_path = root_path/\"hazelnut\"\n",
    "train_path = task_path/\"train/good\""
   ]
  },
  {
   "cell_type": "code",
   "execution_count": null,
   "id": "8b8d3a67-b731-46e9-ac8e-53e7f5655513",
   "metadata": {},
   "outputs": [],
   "source": [
    "btfms = aug_transforms()+[Normalize.from_stats(*imagenet_stats)]\n",
    "btfms"
   ]
  },
  {
   "cell_type": "code",
   "execution_count": null,
   "id": "dadeff5d-2f0d-4589-942b-f384f796fe5b",
   "metadata": {},
   "outputs": [],
   "source": [
    "#init_feature=8\n",
    "class UpsampleBlock(Module):\n",
    "    def __init__(self, up_in_c:int, final_div:bool=True, blur:bool=True, leaky:float=None, **kwargs):\n",
    "        self.shuf = PixelShuffle_ICNR(up_in_c, up_in_c//2, blur=blur, **kwargs)\n",
    "        ni = up_in_c//2\n",
    "        nf = ni if final_div else ni//2\n",
    "        self.conv1 = ConvLayer(ni, nf, **kwargs)\n",
    "        self.conv2 = ConvLayer(nf, nf, **kwargs)\n",
    "        self.relu = nn.ReLU()\n",
    "\n",
    "    def forward(self, up_in:Tensor) -> Tensor:\n",
    "        up_out = self.shuf(up_in)\n",
    "        cat_x = self.relu(up_out)\n",
    "        return self.conv2(self.conv1(cat_x))\n",
    "    \n",
    "def decoder_resnet(y_range, n_out=3):\n",
    "    return nn.Sequential(UpsampleBlock(512), \n",
    "                         UpsampleBlock(256),\n",
    "                         UpsampleBlock(128),\n",
    "                         UpsampleBlock(64),\n",
    "                         UpsampleBlock(32),\n",
    "                         nn.Conv2d(16, n_out, 1),\n",
    "                         SigmoidRange(*y_range)\n",
    "                        )\n",
    "                         \n",
    "def autoencoder(encoder, y_range): return nn.Sequential(encoder, decoder_resnet(y_range))    "
   ]
  },
  {
   "cell_type": "code",
   "execution_count": null,
   "id": "7737137d-2856-42b5-bf8d-b1ccc7d12910",
   "metadata": {},
   "outputs": [],
   "source": [
    "def image2image(x):\n",
    "    return x"
   ]
  },
  {
   "cell_type": "code",
   "execution_count": null,
   "id": "110ea758-1080-4464-8035-8b0fb38e3fc6",
   "metadata": {},
   "outputs": [],
   "source": [
    "block = DataBlock(blocks=(ImageBlock(cls=PILImage), ImageBlock(cls=PILImage)),\n",
    "                  get_items = get_image_files,\n",
    "                  get_y = image2image,\n",
    "                  splitter=RandomSplitter(0.1),                  \n",
    "                  item_tfms=Resize(256),\n",
    "                  batch_tfms = btfms,\n",
    ")"
   ]
  },
  {
   "cell_type": "code",
   "execution_count": null,
   "id": "49504c0c-dd24-43eb-9658-bda4e29a1ed0",
   "metadata": {},
   "outputs": [],
   "source": [
    "dls = block.dataloaders(train_path, batch_size=16)"
   ]
  },
  {
   "cell_type": "code",
   "execution_count": null,
   "id": "87d83a4b-ba66-4319-a269-bdd7aad21be8",
   "metadata": {},
   "outputs": [],
   "source": [
    "dls.show_batch()"
   ]
  },
  {
   "cell_type": "code",
   "execution_count": null,
   "id": "b33b8fd9-31ec-4e7e-b9af-ec488181d17e",
   "metadata": {},
   "outputs": [],
   "source": [
    "arch = create_body(resnet18(), n_in=3).cuda()\n",
    "y_range = (-3.,3.)\n",
    "ac_resnet = autoencoder(arch, y_range).cuda()"
   ]
  },
  {
   "cell_type": "code",
   "execution_count": null,
   "id": "fc28a8ad-a78e-489f-a488-65ef71d00aa9",
   "metadata": {},
   "outputs": [],
   "source": [
    "def gram_matrix(x):\n",
    "    n,c,h,w = x.size()\n",
    "    x = x.view(n, c, -1)\n",
    "    return (x @ x.transpose(1,2))/(c*h*w)"
   ]
  },
  {
   "cell_type": "code",
   "execution_count": null,
   "id": "6fc02aad-3814-4b59-ae99-3ce1d2174df0",
   "metadata": {},
   "outputs": [],
   "source": [
    "base_loss = F.l1_loss"
   ]
  },
  {
   "cell_type": "code",
   "execution_count": null,
   "id": "6c3df4e9-bf71-45b0-8e26-c409ee8c3e25",
   "metadata": {},
   "outputs": [],
   "source": [
    "classificator = vgg16_bn(True).features.cuda().eval().requires_grad_(False)\n",
    "requires_grad(classificator)"
   ]
  },
  {
   "cell_type": "code",
   "execution_count": null,
   "id": "410cf973-2d47-4029-9e84-15bff3f8c55d",
   "metadata": {},
   "outputs": [],
   "source": [
    "blocks = [i-1 for i,o in enumerate(classificator.children()) if isinstance(o,nn.MaxPool2d)]\n",
    "blocks, [classificator[i] for i in blocks]"
   ]
  },
  {
   "cell_type": "code",
   "execution_count": null,
   "id": "6e398754-8a89-4805-87ea-79add7905899",
   "metadata": {},
   "outputs": [],
   "source": [
    "class FeatureLoss(nn.Module):\n",
    "    def __init__(self, m_feat, layer_ids, layer_wgts):\n",
    "        super().__init__()\n",
    "        self.m_feat = m_feat\n",
    "        self.loss_features = [self.m_feat[i] for i in layer_ids]\n",
    "        self.hooks = hook_outputs(self.loss_features, detach=False)\n",
    "        self.wgts = layer_wgts\n",
    "        \n",
    "        self.metric_names = ['pixel',] + [f'feat_{i}' for i in range(len(layer_ids))\n",
    "              ] + [f'gram_{i}' for i in range(len(layer_ids))]\n",
    "        \n",
    "\n",
    "    def make_features(self, x, clone=False):\n",
    "        self.m_feat(x)\n",
    "        return [(o.clone() if clone else o) for o in self.hooks.stored]\n",
    "    \n",
    "    def forward(self, input, target):\n",
    "        out_feat = self.make_features(target, clone=True)\n",
    "        in_feat = self.make_features(input)\n",
    "        self.feat_losses = [base_loss(input,target)]\n",
    "        self.feat_losses += [base_loss(f_in, f_out)*w\n",
    "                             for f_in, f_out, w in zip(in_feat, out_feat, self.wgts)]\n",
    "        self.feat_losses += [base_loss(gram_matrix(f_in), gram_matrix(f_out))*w**2 * 5e3\n",
    "                             for f_in, f_out, w in zip(in_feat, out_feat, self.wgts)]\n",
    "        self.metrics = dict(zip(self.metric_names, self.feat_losses))\n",
    "        #print(self.metrics)\n",
    "        return sum(self.feat_losses)\n",
    "    \n",
    "    def __del__(self): self.hooks.remove()"
   ]
  },
  {
   "cell_type": "code",
   "execution_count": null,
   "id": "6f9c188d-9013-4758-ab36-dbb41dbb968a",
   "metadata": {},
   "outputs": [],
   "source": [
    "feat_loss = FeatureLoss(classificator, blocks[2:5], [5,15,2])"
   ]
  },
  {
   "cell_type": "code",
   "execution_count": null,
   "id": "d5e094b4-aab2-4807-9db3-8199afcd076d",
   "metadata": {},
   "outputs": [],
   "source": [
    "learn = Learner(dls, ac_resnet, loss_func=feat_loss, wd = 1e-3)"
   ]
  },
  {
   "cell_type": "code",
   "execution_count": null,
   "id": "960b6425-e996-4bab-954e-d564f8eb9c08",
   "metadata": {},
   "outputs": [],
   "source": [
    "learn.unfreeze()"
   ]
  },
  {
   "cell_type": "code",
   "execution_count": null,
   "id": "0bada18e-93b4-4175-8ac3-d4aa5c188160",
   "metadata": {},
   "outputs": [],
   "source": [
    "learn.fit_one_cycle(10)"
   ]
  },
  {
   "cell_type": "code",
   "execution_count": null,
   "id": "145c1f2d-25be-4817-84d7-899f033223f1",
   "metadata": {},
   "outputs": [],
   "source": [
    "learn.save(\"feature_loss_stage_VGG_32_1\")"
   ]
  },
  {
   "cell_type": "code",
   "execution_count": null,
   "id": "469ee0f9-7b6a-440c-af92-9fea71a47052",
   "metadata": {},
   "outputs": [],
   "source": [
    "learn.show_results()"
   ]
  },
  {
   "cell_type": "code",
   "execution_count": null,
   "id": "0c9b8abc-7c54-45d6-927c-07c223fca140",
   "metadata": {},
   "outputs": [],
   "source": [
    "learn.unfreeze()"
   ]
  },
  {
   "cell_type": "code",
   "execution_count": null,
   "id": "203e47e8-e1fb-4142-b563-b2a0c3cb0b12",
   "metadata": {},
   "outputs": [],
   "source": [
    "learn.lr_find()"
   ]
  },
  {
   "cell_type": "code",
   "execution_count": null,
   "id": "b344c66b-1d00-4a97-acae-34d15bacecc0",
   "metadata": {},
   "outputs": [],
   "source": [
    "learn.fit_one_cycle(100, slice(1e-3,1e-3))"
   ]
  },
  {
   "cell_type": "code",
   "execution_count": null,
   "id": "8b1016bf-6763-4cb4-92cc-3cb3152e30b8",
   "metadata": {},
   "outputs": [],
   "source": [
    "learn.save(\"feature_loss_stage_VGG_32_2\")"
   ]
  },
  {
   "cell_type": "code",
   "execution_count": null,
   "id": "17ae58b2-da20-4d6f-a7f1-7499daca4240",
   "metadata": {},
   "outputs": [],
   "source": [
    "learn.show_results()"
   ]
  },
  {
   "cell_type": "code",
   "execution_count": null,
   "id": "dab98b53-86c2-43ff-b3b2-2863d8a30ce9",
   "metadata": {},
   "outputs": [],
   "source": []
  },
  {
   "cell_type": "code",
   "execution_count": null,
   "id": "b936809d-a45a-4988-b6d4-febcd0eae18b",
   "metadata": {},
   "outputs": [],
   "source": [
    "learn.lr_find()"
   ]
  },
  {
   "cell_type": "code",
   "execution_count": null,
   "id": "370e621b-9c53-4c60-a5a9-1c80150ceee4",
   "metadata": {},
   "outputs": [],
   "source": [
    "learn.fit_one_cycle(200)"
   ]
  },
  {
   "cell_type": "code",
   "execution_count": null,
   "id": "424e1ccf-371a-4e51-9480-ecd69781b94f",
   "metadata": {},
   "outputs": [],
   "source": [
    "learn.fit_one_cycle(100, slice(1e-4,1e-3))"
   ]
  },
  {
   "cell_type": "code",
   "execution_count": null,
   "id": "4a79a314-1f4e-48f1-8ace-7de80581fb54",
   "metadata": {},
   "outputs": [],
   "source": [
    "learn.show_results()"
   ]
  },
  {
   "cell_type": "code",
   "execution_count": null,
   "id": "9e5d6c9b-cab6-4552-916a-86191bbbde20",
   "metadata": {},
   "outputs": [],
   "source": [
    "learn.save(\"feature_loss_stage_VGG_32_3\")"
   ]
  },
  {
   "cell_type": "code",
   "execution_count": null,
   "id": "94d36a8f-1f50-41de-b998-a046f793299c",
   "metadata": {},
   "outputs": [],
   "source": [
    "x = TensorImage(PILImage.create(np.array(Image.open(task_path/\"test\"/\"hole\"/\"001.png\").resize((256,256))))).permute(2,0,1)\n",
    "prediction = learn.predict(x)\n",
    "y_hat = prediction[0]"
   ]
  },
  {
   "cell_type": "code",
   "execution_count": null,
   "id": "2e2ffda3-0d11-418f-b5b9-03cbd30b24b6",
   "metadata": {},
   "outputs": [],
   "source": [
    "plt.imshow(x.permute(1,2,0))"
   ]
  },
  {
   "cell_type": "code",
   "execution_count": null,
   "id": "aed7d5ab-7189-4970-a2da-9423c8bd2c59",
   "metadata": {},
   "outputs": [],
   "source": [
    "plt.imshow(y_hat.permute(1,2,0))"
   ]
  },
  {
   "cell_type": "code",
   "execution_count": null,
   "id": "42a328c9-36ee-4a04-a3bd-80829cc88d9f",
   "metadata": {},
   "outputs": [],
   "source": [
    "diff = np.absolute(x-y_hat)"
   ]
  },
  {
   "cell_type": "code",
   "execution_count": null,
   "id": "2a85703c-49a6-4774-b8a8-592a29041784",
   "metadata": {},
   "outputs": [],
   "source": [
    "diff_all = np.sum(np.array(np.absolute(diff)),axis=0)"
   ]
  },
  {
   "cell_type": "code",
   "execution_count": null,
   "id": "44ff1eb0-c1a0-43ae-8574-41a7cc7f7ba4",
   "metadata": {},
   "outputs": [],
   "source": [
    "plt.imshow(diff_all)"
   ]
  },
  {
   "cell_type": "code",
   "execution_count": null,
   "id": "94fc3c8c-bd47-48c7-82e2-af1763a69e5b",
   "metadata": {},
   "outputs": [],
   "source": [
    "diff = np.absolute(x-y_hat)"
   ]
  },
  {
   "cell_type": "code",
   "execution_count": null,
   "id": "cf9d94f1-c473-4e17-8dec-df33ec7c3b93",
   "metadata": {},
   "outputs": [],
   "source": [
    "x = TensorImage(PILImage.create(np.array(Image.open(task_path/\"test\"/\"hole\"/\"001.png\").resize((256,256))))).permute(2,0,1)\n",
    "prediction = learn.predict(x)\n",
    "y_hat = prediction[0]"
   ]
  },
  {
   "cell_type": "code",
   "execution_count": null,
   "id": "6519f12d-df27-44ac-af4d-af3f0921cb43",
   "metadata": {},
   "outputs": [],
   "source": [
    "plt.imshow(x.permute(1,2,0))"
   ]
  },
  {
   "cell_type": "code",
   "execution_count": null,
   "id": "58c683d7-c13a-40b7-bb56-7c78b7bf6056",
   "metadata": {},
   "outputs": [],
   "source": [
    "plt.imshow(y_hat.permute(1,2,0))"
   ]
  },
  {
   "cell_type": "code",
   "execution_count": null,
   "id": "0da56b43-9f03-4d76-b06b-9f0bf71c43ca",
   "metadata": {},
   "outputs": [],
   "source": [
    "diff = np.absolute(x-y_hat)"
   ]
  },
  {
   "cell_type": "code",
   "execution_count": null,
   "id": "f49e7964-b721-4489-9713-0cc5170dfe36",
   "metadata": {},
   "outputs": [],
   "source": [
    "plt.imshow(diff[1])"
   ]
  },
  {
   "cell_type": "code",
   "execution_count": null,
   "id": "0b8ae0e1-a070-4af2-bb8a-0bdc70226ea0",
   "metadata": {},
   "outputs": [],
   "source": [
    "learn.save(\"feature_loss_stage_3\")"
   ]
  },
  {
   "cell_type": "code",
   "execution_count": null,
   "id": "3b299231-cd30-4673-97c7-5f1c6860d3fa",
   "metadata": {},
   "outputs": [],
   "source": [
    "learn.lr_find()"
   ]
  },
  {
   "cell_type": "code",
   "execution_count": null,
   "id": "03d6a192-4495-4284-a4ac-36ad3116fdd9",
   "metadata": {},
   "outputs": [],
   "source": [
    "learn.fit_one_cycle(400, slice(1e-4,1e-3))"
   ]
  },
  {
   "cell_type": "code",
   "execution_count": null,
   "id": "6c206690-72b4-40e0-9b03-5130b0b2fdd1",
   "metadata": {},
   "outputs": [],
   "source": [
    "learn.show_results()"
   ]
  },
  {
   "cell_type": "code",
   "execution_count": null,
   "id": "1df17f05-73d6-489f-abd1-43499ed3a5ed",
   "metadata": {},
   "outputs": [],
   "source": [
    "learn.save(\"feature_loss_stage_VGG_32_4\")"
   ]
  },
  {
   "cell_type": "code",
   "execution_count": null,
   "id": "e252be0c-967f-45b8-bde8-4a8c754ff285",
   "metadata": {},
   "outputs": [],
   "source": [
    "learn.lr_find()"
   ]
  },
  {
   "cell_type": "code",
   "execution_count": null,
   "id": "9349ce12-2b6d-4f67-be13-491e3c971360",
   "metadata": {},
   "outputs": [],
   "source": [
    "x = TensorImage(PILImage.create(np.array(Image.open(task_path/\"test\"/\"hole\"/\"003.png\").resize((256,256))))).permute(2,0,1)\n",
    "prediction = learn.predict(x)\n",
    "y_hat = prediction[0]"
   ]
  },
  {
   "cell_type": "code",
   "execution_count": null,
   "id": "9adad21d-717e-45af-ac82-44e279ac8985",
   "metadata": {},
   "outputs": [],
   "source": [
    "plt.imshow(x.permute(1,2,0))"
   ]
  },
  {
   "cell_type": "code",
   "execution_count": null,
   "id": "61706231-b752-4e41-b12e-f34ff3b9259e",
   "metadata": {},
   "outputs": [],
   "source": [
    "plt.imshow(y_hat.permute(1,2,0))"
   ]
  },
  {
   "cell_type": "code",
   "execution_count": null,
   "id": "61c2bab8-5466-4cbc-933a-056bd7e1de61",
   "metadata": {},
   "outputs": [],
   "source": [
    "diff = np.absolute(x-y_hat)"
   ]
  },
  {
   "cell_type": "code",
   "execution_count": null,
   "id": "ccc7e8bb-eb1c-4536-b02e-1f55db4b405e",
   "metadata": {},
   "outputs": [],
   "source": [
    "diff_all = np.sum(np.array(np.absolute(diff)),axis=0)"
   ]
  },
  {
   "cell_type": "code",
   "execution_count": null,
   "id": "296bb1bb-a7ae-483b-a0a6-612ce223a765",
   "metadata": {},
   "outputs": [],
   "source": [
    "plt.imshow(diff_all)"
   ]
  },
  {
   "cell_type": "code",
   "execution_count": null,
   "id": "c24bbc16-7e4a-4626-ac4e-efc8e48fb934",
   "metadata": {},
   "outputs": [],
   "source": [
    "learn.fit_one_cycle(100, slice(1e-4,1e-3))"
   ]
  },
  {
   "cell_type": "code",
   "execution_count": null,
   "id": "8305246a-ec55-4931-b14e-2ce95904a577",
   "metadata": {},
   "outputs": [],
   "source": [
    "learn.show_results()"
   ]
  },
  {
   "cell_type": "code",
   "execution_count": null,
   "id": "23b3e868-976b-418e-84c7-237286f7a3e4",
   "metadata": {},
   "outputs": [],
   "source": [
    "learn.save(\"feature_loss_stage_5\")"
   ]
  },
  {
   "cell_type": "code",
   "execution_count": null,
   "id": "61bc49d3-279a-43e7-a2dc-5ded121ff888",
   "metadata": {},
   "outputs": [],
   "source": [
    "learn.lr_find()"
   ]
  },
  {
   "cell_type": "code",
   "execution_count": null,
   "id": "3ffeffdb-57d4-4ab7-9bbf-77bf8d0ec692",
   "metadata": {},
   "outputs": [],
   "source": [
    "learn.fit_one_cycle(100, slice(1e-5,1e-3))"
   ]
  },
  {
   "cell_type": "code",
   "execution_count": null,
   "id": "c9395bec-ce2c-4bac-b5d5-f9e8a31a9976",
   "metadata": {},
   "outputs": [],
   "source": [
    "learn.show_results()"
   ]
  },
  {
   "cell_type": "code",
   "execution_count": null,
   "id": "7268285a-9c4e-43b0-9b75-7324dda7c4ff",
   "metadata": {},
   "outputs": [],
   "source": [
    "learn.save(\"feature_loss_stage_6\")"
   ]
  },
  {
   "cell_type": "code",
   "execution_count": null,
   "id": "9f2d8c55-72de-4817-9235-8949d6941e58",
   "metadata": {},
   "outputs": [],
   "source": [
    "learn.lr_find()"
   ]
  },
  {
   "cell_type": "code",
   "execution_count": null,
   "id": "db443d6b-1c99-4d98-a4a1-d433a577979a",
   "metadata": {},
   "outputs": [],
   "source": [
    "learn.fit_one_cycle(300, slice(1e-5,1e-3))"
   ]
  },
  {
   "cell_type": "code",
   "execution_count": null,
   "id": "ae399996-7ed8-40b1-9360-5945bcc802cf",
   "metadata": {},
   "outputs": [],
   "source": [
    "learn.show_results()"
   ]
  },
  {
   "cell_type": "code",
   "execution_count": null,
   "id": "bd00308f-a610-42ec-8308-3722574bd270",
   "metadata": {},
   "outputs": [],
   "source": [
    "learn.save(\"feature_loss_stage_7\")"
   ]
  },
  {
   "cell_type": "code",
   "execution_count": null,
   "id": "d889b1a5-c004-4926-a348-de8a54e1d759",
   "metadata": {},
   "outputs": [],
   "source": [
    "x = TensorImage(PILImage.create(np.array(Image.open(task_path/\"test\"/\"hole\"/\"000.png\").resize((512,512))))).permute(2,0,1)\n",
    "y_hat = learn.predict(x)[0]\n"
   ]
  },
  {
   "cell_type": "code",
   "execution_count": null,
   "id": "d79ab463-f3ca-4398-84a0-af389eedda66",
   "metadata": {},
   "outputs": [],
   "source": [
    "plt.imshow(x.permute(1,2,0))"
   ]
  },
  {
   "cell_type": "code",
   "execution_count": null,
   "id": "0724508e-ac91-47bb-a633-9cd37addc010",
   "metadata": {},
   "outputs": [],
   "source": [
    "plt.imshow(y_hat.permute(1,2,0))"
   ]
  },
  {
   "cell_type": "code",
   "execution_count": null,
   "id": "8ffe6ed2-b8e9-487b-a533-d63e4e1d2070",
   "metadata": {},
   "outputs": [],
   "source": [
    "learn.dls.valid"
   ]
  },
  {
   "cell_type": "code",
   "execution_count": null,
   "id": "3af8614c-18fe-41d2-b9b8-02e359058e19",
   "metadata": {},
   "outputs": [],
   "source": [
    "learn.show_results(dl=learn.dls.train)"
   ]
  },
  {
   "cell_type": "code",
   "execution_count": null,
   "id": "23a833b0-9cd0-4c58-9f63-32971f76be48",
   "metadata": {},
   "outputs": [],
   "source": [
    "learn.lr_find()"
   ]
  },
  {
   "cell_type": "code",
   "execution_count": null,
   "id": "a60e74e1-8048-4ed0-a5fc-c8fe98874076",
   "metadata": {},
   "outputs": [],
   "source": [
    "learn.fit_one_cycle(500, slice(1e-5,1e-4))"
   ]
  },
  {
   "cell_type": "code",
   "execution_count": null,
   "id": "33bd2d06-0f07-47b6-81c2-76d805bff4c4",
   "metadata": {},
   "outputs": [],
   "source": [
    "learn.show_results(dl=learn.dls.train)"
   ]
  },
  {
   "cell_type": "code",
   "execution_count": null,
   "id": "20b82eb6-9dc7-468c-8f3e-396a53395d54",
   "metadata": {},
   "outputs": [],
   "source": [
    "learn.save(\"feature_loss_stage_8\")"
   ]
  },
  {
   "cell_type": "code",
   "execution_count": null,
   "id": "5f5d97ed-5896-44c0-b430-2d6f426fee7b",
   "metadata": {},
   "outputs": [],
   "source": [
    "learn.show_results(dl=learn.dls.valid)"
   ]
  },
  {
   "cell_type": "code",
   "execution_count": null,
   "id": "cc780382-dc81-4170-ab53-8db72c221851",
   "metadata": {},
   "outputs": [],
   "source": [
    "v"
   ]
  },
  {
   "cell_type": "code",
   "execution_count": null,
   "id": "440c82f0-d758-4044-a898-80f4fbdfc62e",
   "metadata": {},
   "outputs": [],
   "source": [
    "x = TensorImage(PILImage.create(np.array(Image.open(task_path/\"test\"/\"crack\"/\"000.png\").resize((512,512))))).permute(2,0,1)\n",
    "y_hat = learn.predict(x)[0]\n"
   ]
  },
  {
   "cell_type": "code",
   "execution_count": null,
   "id": "b5631cf7-4b3d-4434-8755-3a7ebffa02c4",
   "metadata": {},
   "outputs": [],
   "source": [
    "plt.imshow(x.permute(1,2,0))"
   ]
  },
  {
   "cell_type": "code",
   "execution_count": null,
   "id": "156cda9c-a486-4837-9090-5d78e539a890",
   "metadata": {},
   "outputs": [],
   "source": [
    "plt.imshow(y_hat.permute(1,2,0))"
   ]
  },
  {
   "cell_type": "code",
   "execution_count": null,
   "id": "30cc53b0-4f40-4b7c-9060-e3e72546957a",
   "metadata": {},
   "outputs": [],
   "source": [
    "diff = np.absolute(x-y_hat)"
   ]
  },
  {
   "cell_type": "code",
   "execution_count": null,
   "id": "669bec0b-2561-49c5-ae0e-ba5d24c68445",
   "metadata": {},
   "outputs": [],
   "source": [
    "plt.imshow(diff[0])"
   ]
  },
  {
   "cell_type": "code",
   "execution_count": null,
   "id": "a0a2e306-5b5c-47b3-a387-760e90f15edb",
   "metadata": {},
   "outputs": [],
   "source": [
    "learn.lr_find()"
   ]
  },
  {
   "cell_type": "code",
   "execution_count": null,
   "id": "a7a75279-f47a-4e83-a6c0-db1783cdb9cd",
   "metadata": {},
   "outputs": [],
   "source": [
    "5e-4*2, 1e-3"
   ]
  },
  {
   "cell_type": "code",
   "execution_count": null,
   "id": "dba64b5d-57d0-4fe6-85a4-fc3e17fa9be4",
   "metadata": {},
   "outputs": [],
   "source": [
    "learn.fit_one_cycle(500, slice(1e-5,5e-4))"
   ]
  },
  {
   "cell_type": "code",
   "execution_count": null,
   "id": "671a6cfe-413e-442f-b193-72d4c2f12b47",
   "metadata": {},
   "outputs": [],
   "source": []
  },
  {
   "cell_type": "code",
   "execution_count": null,
   "id": "0bbaa3ae-211a-4d4f-91f7-f8cbabca01c1",
   "metadata": {},
   "outputs": [],
   "source": [
    "learn.save(\"feature_loss_stage_9\")"
   ]
  },
  {
   "cell_type": "code",
   "execution_count": null,
   "id": "cf9dfbeb-a090-466b-88f3-3815adf8d61d",
   "metadata": {},
   "outputs": [],
   "source": [
    "learn.show_results(dl=learn.dls.train)"
   ]
  },
  {
   "cell_type": "code",
   "execution_count": null,
   "id": "fc070b7d-9ec5-4404-aa8c-94f559c34add",
   "metadata": {},
   "outputs": [],
   "source": [
    "good_test_images = get_image_files(task_path/\"test\", folders=[\"good\"])\n",
    "losses_good = []\n",
    "for img_file in good_test_images:\n",
    "    x = TensorImage(PILImage.create(np.array(Image.open(img_file).resize((512,512))))).permute(2,0,1)    \n",
    "    y_hat = learn.predict(x)[0]    \n",
    "    losses_good.append(np.absolute(np.array(y_hat - x)).mean())"
   ]
  },
  {
   "cell_type": "code",
   "execution_count": null,
   "id": "af451d99-7f90-4ed6-ad7b-7851be953d8d",
   "metadata": {},
   "outputs": [],
   "source": [
    "anomalie_images = get_image_files(task_path/\"test\", folders=[\"crack\",\"cut\",\"hole\",\"print\"])\n",
    "losses_anomaly = []\n",
    "for img_file in anomalie_images:\n",
    "    x = TensorImage(PILImage.create(np.array(Image.open(img_file).resize((512,512))))).permute(2,0,1)    \n",
    "    y_hat = learn.predict(x)[0]    \n",
    "    losses_anomaly.append(np.absolute(np.array(y_hat - x)).mean())"
   ]
  },
  {
   "cell_type": "code",
   "execution_count": null,
   "id": "8b077e8e-d151-4d07-9049-cab8980d7f0d",
   "metadata": {},
   "outputs": [],
   "source": [
    "\n",
    "losses = []\n",
    "for idx in range(len(dls.train_ds)):\n",
    "    x,y = dls.do_item(idx)\n",
    "    y_hat = learn.predict(x)[0]    \n",
    "    losses.append(np.absolute(np.array(y_hat - y)).mean())"
   ]
  },
  {
   "cell_type": "code",
   "execution_count": null,
   "id": "a5670d4c-a526-4cd5-b76f-f4cdba3ae906",
   "metadata": {},
   "outputs": [],
   "source": [
    "plt.hist(losses, bins=100)\n",
    "plt.hist(losses_anomaly, bins=100)\n",
    "#plt.hist(losses_good, bins=50)\n",
    "plt.show()"
   ]
  },
  {
   "cell_type": "code",
   "execution_count": null,
   "id": "0a9c8256-6b78-48ae-b9a2-4bbcc74404c6",
   "metadata": {},
   "outputs": [],
   "source": [
    "x = TensorImage(PILImage.create(np.array(Image.open(task_path/\"test\"/\"hole\"/\"001.png\").resize((512,512))))).permute(2,0,1)\n",
    "y_hat = learn.predict(x)[0]\n",
    "#learn.loss_func(y_hat,x)\n",
    "diff = np.absolute(np.array(y_hat - x))\n",
    "diff.shape"
   ]
  },
  {
   "cell_type": "code",
   "execution_count": null,
   "id": "45a731b9-3ccf-484c-bd36-2e031ab60619",
   "metadata": {},
   "outputs": [],
   "source": [
    "plt.imshow(x.permute(1,2,0))"
   ]
  },
  {
   "cell_type": "code",
   "execution_count": null,
   "id": "1dc81321-6e61-4b51-9c99-c659883b18d5",
   "metadata": {},
   "outputs": [],
   "source": [
    "plt.imshow(y_hat.permute(1,2,0))"
   ]
  },
  {
   "cell_type": "code",
   "execution_count": null,
   "id": "a900070a-e364-4176-81c9-a08c601482e4",
   "metadata": {},
   "outputs": [],
   "source": [
    "heatmap = np.sum(np.absolute(np.array(y_hat - x)),axis=0)\n",
    "kernel = np.ones((5, 5), 'uint8')\n",
    "mask = heatmap > heatmap.max()*0.5\n",
    "mask = cv2.dilate(mask.astype(np.uint8), kernel, iterations=6)\n",
    "mask = cv2.erode(mask, kernel, iterations=6).astype(bool)\n",
    "mask = np.ma.masked_where(mask==False, mask)\n",
    "plt.imshow(mask)"
   ]
  },
  {
   "cell_type": "code",
   "execution_count": null,
   "id": "cb2275f7-ff08-4a16-aace-ba3f531bfe81",
   "metadata": {},
   "outputs": [],
   "source": [
    "contours, hierarchy = cv2.findContours(image=mask.astype(np.uint8), mode=cv2.RETR_TREE, method=cv2.CHAIN_APPROX_NONE)    \n",
    "\n",
    "f,axes = plt.subplots(ncols=3,nrows=1,figsize=(20,8))\n",
    "axes[0].imshow(x.permute(1,2,0))\n",
    "axes[1].imshow(y_hat.permute(1,2,0))\n",
    "axes[2].imshow(x.permute(1,2,0))\n",
    "for cont in contours:\n",
    "    if len(cont) == 1:\n",
    "        continue\n",
    "    cont = np.squeeze(cont)    \n",
    "    axes[2].plot(cont[:,0], cont[:,1], \"r-\")\n",
    "plt.show()"
   ]
  },
  {
   "cell_type": "code",
   "execution_count": null,
   "id": "4fa81861-1545-44d5-8935-4e0bd3836fc9",
   "metadata": {},
   "outputs": [],
   "source": [
    "plt.imshow(heatmap)"
   ]
  },
  {
   "cell_type": "code",
   "execution_count": null,
   "id": "b00af8e9-ed45-42f0-bdfb-322fe85b869f",
   "metadata": {},
   "outputs": [],
   "source": [
    "plt.imshow(np.absolute(np.array(y_hat - x))[2])"
   ]
  },
  {
   "cell_type": "code",
   "execution_count": null,
   "id": "7fde2f08-6b59-4ac3-9a53-00579d2ece3f",
   "metadata": {},
   "outputs": [],
   "source": []
  },
  {
   "cell_type": "code",
   "execution_count": null,
   "id": "fba71408-9bda-40b4-88d2-c06551cc5ac6",
   "metadata": {},
   "outputs": [],
   "source": [
    "dilated = cv2.dilate(heatmap.astype(np.uint16), kernel, iterations=2)\n"
   ]
  },
  {
   "cell_type": "code",
   "execution_count": null,
   "id": "f856fccc-29cd-4883-a9ec-f30a2545bbc9",
   "metadata": {},
   "outputs": [],
   "source": [
    "plt.imshow()"
   ]
  },
  {
   "cell_type": "code",
   "execution_count": null,
   "id": "eddf230f-2fe7-4659-8ccc-1518c6090c59",
   "metadata": {},
   "outputs": [],
   "source": [
    "blur = cv2.GaussianBlur(dilated,(11,11),0)"
   ]
  },
  {
   "cell_type": "code",
   "execution_count": null,
   "id": "16517a41-a8a4-4087-b6de-9d1466adc9fb",
   "metadata": {},
   "outputs": [],
   "source": [
    "plt.imshow(blur)"
   ]
  },
  {
   "cell_type": "code",
   "execution_count": null,
   "id": "213d7786-9867-4f97-b5a2-6d801e5c4a8a",
   "metadata": {},
   "outputs": [],
   "source": [
    "blur.max()"
   ]
  },
  {
   "cell_type": "code",
   "execution_count": null,
   "id": "c9060d9e-a9c4-4637-bfbb-3302e37d338c",
   "metadata": {},
   "outputs": [],
   "source": [
    "learn.fit_flat_cos?"
   ]
  },
  {
   "cell_type": "code",
   "execution_count": null,
   "id": "6cda83d9-134b-4fa6-ada9-083b586eb5b7",
   "metadata": {},
   "outputs": [],
   "source": [
    "learn.fit_flat_cos(500, slice(1e-6,1e-4))"
   ]
  },
  {
   "cell_type": "code",
   "execution_count": null,
   "id": "3d46a2c6-c3f5-4abe-beeb-03dc6cfcbf55",
   "metadata": {},
   "outputs": [],
   "source": [
    "learn.show_results(dl=learn.dls.valid)"
   ]
  },
  {
   "cell_type": "code",
   "execution_count": null,
   "id": "30416a99-326a-441d-a824-075ee78a7beb",
   "metadata": {},
   "outputs": [],
   "source": []
  }
 ],
 "metadata": {
  "kernelspec": {
   "display_name": "Python 3 (ipykernel)",
   "language": "python",
   "name": "python3"
  },
  "language_info": {
   "codemirror_mode": {
    "name": "ipython",
    "version": 3
   },
   "file_extension": ".py",
   "mimetype": "text/x-python",
   "name": "python",
   "nbconvert_exporter": "python",
   "pygments_lexer": "ipython3",
   "version": "3.9.12"
  }
 },
 "nbformat": 4,
 "nbformat_minor": 5
}
