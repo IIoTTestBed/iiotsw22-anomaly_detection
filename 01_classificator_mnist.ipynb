{
 "cells": [
  {
   "cell_type": "code",
   "execution_count": null,
   "id": "e70473f5-f6c7-43e4-b32a-e7dfa48df0e0",
   "metadata": {},
   "outputs": [],
   "source": [
    "import fastai\n",
    "from fastai.vision.all import *\n",
    "from pathlib import Path\n",
    "from PIL import Image\n",
    "import matplotlib.pyplot as plt\n",
    "import numpy as np\n",
    "import matplotlib.cm as cm\n"
   ]
  },
  {
   "cell_type": "code",
   "execution_count": null,
   "id": "5c8dcbfd-4f65-4a4e-8ffc-f5d7e665d12e",
   "metadata": {},
   "outputs": [],
   "source": [
    "URLs.MNIST"
   ]
  },
  {
   "cell_type": "code",
   "execution_count": null,
   "id": "b17681e0-1492-46e9-a265-d3066ed0505d",
   "metadata": {},
   "outputs": [],
   "source": [
    "root_path = untar_data(URLs.MNIST)\n",
    "root_path"
   ]
  },
  {
   "cell_type": "code",
   "execution_count": null,
   "id": "9589469b-5e97-4c07-aeae-f58932013f50",
   "metadata": {},
   "outputs": [],
   "source": [
    "files = get_image_files(root_path)\n",
    "len(files)"
   ]
  },
  {
   "cell_type": "code",
   "execution_count": null,
   "id": "1ba83a7d-fa80-4649-b3cd-02ed21a8b283",
   "metadata": {},
   "outputs": [],
   "source": [
    "(root_path/\"training\").ls()"
   ]
  },
  {
   "cell_type": "code",
   "execution_count": null,
   "id": "f422affd-61b6-472b-9357-769a1235b6cb",
   "metadata": {},
   "outputs": [],
   "source": [
    "(root_path).ls()"
   ]
  },
  {
   "cell_type": "code",
   "execution_count": null,
   "id": "86da6018-aaad-4124-b479-09314de58c45",
   "metadata": {},
   "outputs": [],
   "source": [
    "image = load_image(files[0])\n",
    "image"
   ]
  },
  {
   "cell_type": "code",
   "execution_count": null,
   "id": "1eded1c5-4552-4532-91bd-320e339e52a3",
   "metadata": {},
   "outputs": [],
   "source": [
    " image.size"
   ]
  },
  {
   "cell_type": "code",
   "execution_count": null,
   "id": "634bfb0c-ade9-46e9-8ceb-73bb23a30490",
   "metadata": {},
   "outputs": [],
   "source": [
    "def splitter_func(x):    \n",
    "    return x.parent.parent.name == \"testing\"        "
   ]
  },
  {
   "cell_type": "code",
   "execution_count": null,
   "id": "f939afe7-cee6-4021-abe2-de7a1f27bbfa",
   "metadata": {},
   "outputs": [],
   "source": [
    "def label_func(x):\n",
    "    return x.parent.name"
   ]
  },
  {
   "cell_type": "code",
   "execution_count": null,
   "id": "53b2e5be-41a7-497a-9ab1-699dade558ab",
   "metadata": {},
   "outputs": [],
   "source": [
    "aug_transforms()"
   ]
  },
  {
   "cell_type": "code",
   "execution_count": null,
   "id": "1fca5b65-1918-4c6e-a4fc-c49924e8e941",
   "metadata": {},
   "outputs": [],
   "source": [
    "#aug_transforms()+\n",
    "transforms = [Normalize.from_stats(*mnist_stats)]"
   ]
  },
  {
   "cell_type": "code",
   "execution_count": null,
   "id": "e8c8b6ec-f861-4b38-b372-7aaf7fbb5a90",
   "metadata": {},
   "outputs": [],
   "source": [
    "transforms"
   ]
  },
  {
   "cell_type": "code",
   "execution_count": null,
   "id": "65c49b3d-1481-4a88-9904-2de787b405d4",
   "metadata": {},
   "outputs": [],
   "source": [
    "block = DataBlock(blocks=(ImageBlock, CategoryBlock), \n",
    "                 get_items=get_image_files, \n",
    "                 splitter=FuncSplitter(splitter_func),\n",
    "                 get_y=label_func,\n",
    "                 item_tfms=Resize(28),\n",
    "                 batch_tfms=transforms)"
   ]
  },
  {
   "cell_type": "code",
   "execution_count": null,
   "id": "7c5f4c25-699f-4ed7-b6fe-4cca2436837a",
   "metadata": {},
   "outputs": [],
   "source": [
    "dls = block.dataloaders(root_path, batch_size=64)"
   ]
  },
  {
   "cell_type": "code",
   "execution_count": null,
   "id": "509e81e6-4028-4c1a-a42c-52f0493843c6",
   "metadata": {},
   "outputs": [],
   "source": [
    "dls.show_batch(max_n=9)"
   ]
  },
  {
   "cell_type": "code",
   "execution_count": null,
   "id": "2a5edb6b-38ec-468f-b5df-ed7ac879f431",
   "metadata": {},
   "outputs": [],
   "source": [
    "learn = vision_learner(dls, resnet18, metrics=error_rate)"
   ]
  },
  {
   "cell_type": "code",
   "execution_count": null,
   "id": "8d18251f-d479-48b8-bba1-b32183016c28",
   "metadata": {},
   "outputs": [],
   "source": [
    "learn.unfreeze()"
   ]
  },
  {
   "cell_type": "code",
   "execution_count": null,
   "id": "668ec866-d5a5-428c-bed5-262e7dd8f667",
   "metadata": {},
   "outputs": [],
   "source": [
    "learn.fit_one_cycle(10)"
   ]
  },
  {
   "cell_type": "code",
   "execution_count": null,
   "id": "0e05afc2-c25c-487d-b5c1-8067298a2c05",
   "metadata": {},
   "outputs": [],
   "source": [
    "learn.save(\"classification_all_stage_1_resnet18\")"
   ]
  },
  {
   "cell_type": "code",
   "execution_count": null,
   "id": "a5dffd73-36ab-4e9e-acf9-4ebecc7875e1",
   "metadata": {},
   "outputs": [],
   "source": [
    "learn.fit_one_cycle(5)"
   ]
  },
  {
   "cell_type": "code",
   "execution_count": null,
   "id": "ead6ee81-c3fb-4bb2-891b-d258b29867a4",
   "metadata": {},
   "outputs": [],
   "source": [
    "learn.save(\"classification_all_stage_2_resnet18\")"
   ]
  },
  {
   "cell_type": "code",
   "execution_count": null,
   "id": "12c408c1-ec75-4b24-8d18-e769e480811c",
   "metadata": {},
   "outputs": [],
   "source": [
    "learn.show_results()"
   ]
  },
  {
   "cell_type": "code",
   "execution_count": null,
   "id": "6b10d02d-77c6-4d99-b6b9-546f47a277a5",
   "metadata": {},
   "outputs": [],
   "source": [
    "interp = Interpretation.from_learner(learn)"
   ]
  },
  {
   "cell_type": "code",
   "execution_count": null,
   "id": "30e645e3-1133-467d-9059-595d649efbf8",
   "metadata": {},
   "outputs": [],
   "source": [
    "interp.plot_top_losses(9, figsize=(15,10))"
   ]
  },
  {
   "cell_type": "code",
   "execution_count": null,
   "id": "fec9a04b-fa10-4186-b56f-6e061948cba1",
   "metadata": {},
   "outputs": [],
   "source": []
  }
 ],
 "metadata": {
  "kernelspec": {
   "display_name": "Python 3 (ipykernel)",
   "language": "python",
   "name": "python3"
  },
  "language_info": {
   "codemirror_mode": {
    "name": "ipython",
    "version": 3
   },
   "file_extension": ".py",
   "mimetype": "text/x-python",
   "name": "python",
   "nbconvert_exporter": "python",
   "pygments_lexer": "ipython3",
   "version": "3.9.12"
  }
 },
 "nbformat": 4,
 "nbformat_minor": 5
}
