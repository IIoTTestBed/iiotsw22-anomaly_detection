{
 "cells": [
  {
   "cell_type": "code",
   "execution_count": 1,
   "id": "58e3bdc9-3884-44b9-9b8e-96d8e41afb69",
   "metadata": {},
   "outputs": [],
   "source": [
    "import fastai\n",
    "from fastai.vision.all import *\n",
    "from pathlib import Path\n",
    "from PIL import Image\n",
    "import matplotlib.pyplot as plt\n",
    "import numpy as np\n",
    "import matplotlib.cm as cm\n",
    "import cv2"
   ]
  },
  {
   "cell_type": "raw",
   "id": "85410aea-0413-4225-b0f6-39ce9617ea76",
   "metadata": {},
   "source": [
    "root_path = Path(\"../mvtec_anomaly_detection/\")\n",
    "task_path = root_path/\"leather\"\n",
    "train_path = task_path/\"train/good\""
   ]
  },
  {
   "cell_type": "code",
   "execution_count": 2,
   "id": "13d9ffa1-eeef-4b3f-b2bc-98b11c7bf29a",
   "metadata": {},
   "outputs": [],
   "source": [
    "URLs.MNIST\n",
    "root_path = untar_data(URLs.MNIST)\n",
    "task_path = root_path\n",
    "train_path = root_path"
   ]
  },
  {
   "cell_type": "code",
   "execution_count": 3,
   "id": "ff15746c-1714-49a8-b652-db65bbbc35f8",
   "metadata": {},
   "outputs": [],
   "source": [
    "btfms = aug_transforms()+[Normalize.from_stats(*mnist_stats)]"
   ]
  },
  {
   "cell_type": "code",
   "execution_count": 4,
   "id": "10303f00-e9f2-447c-8723-6b545e96a715",
   "metadata": {},
   "outputs": [],
   "source": [
    "def image2image(x):\n",
    "    return x"
   ]
  },
  {
   "cell_type": "code",
   "execution_count": 34,
   "id": "e6ced539-52b6-48f7-9a7d-f9121e61cce7",
   "metadata": {},
   "outputs": [],
   "source": [
    "block = DataBlock(blocks=(ImageBlock(cls=PILImageBW), ImageBlock(cls=PILImageBW)),\n",
    "                  get_items = get_image_files,\n",
    "                  get_y = image2image,\n",
    "                  splitter=RandomSplitter(0.1),                  \n",
    "                  item_tfms=Resize(32),\n",
    "                  batch_tfms = btfms,\n",
    ")"
   ]
  },
  {
   "cell_type": "code",
   "execution_count": null,
   "id": "8f8ee277-3289-4948-9f29-3803dc39cb94",
   "metadata": {},
   "outputs": [],
   "source": [
    "dls = block.dataloaders(train_path, batch_size=128)"
   ]
  },
  {
   "cell_type": "code",
   "execution_count": 54,
   "id": "34bd6fae-f4ea-4e03-9182-2679f1043e49",
   "metadata": {},
   "outputs": [
    {
     "data": {
      "image/png": "[encoded data removed]",
      "text/plain": [
       "<Figure size 1800x900 with 18 Axes>"
      ]
     },
     "metadata": {},
     "output_type": "display_data"
    }
   ],
   "source": [
    "dls.show_batch(max_n=9)"
   ]
  },
  {
   "cell_type": "code",
   "execution_count": 55,
   "id": "ae6bc7be-dbf0-4330-9549-ff95115bb050",
   "metadata": {},
   "outputs": [],
   "source": [
    "arch = create_body(resnet18(), n_in=1).cuda()"
   ]
  },
  {
   "cell_type": "code",
   "execution_count": 56,
   "id": "39856761-8b36-4129-8dbe-171a43c1772b",
   "metadata": {},
   "outputs": [],
   "source": [
    "class UpsampleBlock(Module):\n",
    "    def __init__(self, up_in_c:int, final_div:bool=True, blur:bool=False, leaky:float=None, **kwargs):\n",
    "        self.shuf = PixelShuffle_ICNR(up_in_c, up_in_c//2, blur=blur, **kwargs)\n",
    "        ni = up_in_c//2\n",
    "        nf = ni if final_div else ni//2\n",
    "        self.conv1 = ConvLayer(ni, nf, **kwargs)\n",
    "        self.conv2 = ConvLayer(nf, nf, **kwargs)\n",
    "        self.relu = nn.ReLU()\n",
    "\n",
    "    def forward(self, up_in:Tensor) -> Tensor:\n",
    "        up_out = self.shuf(up_in)\n",
    "        cat_x = self.relu(up_out)\n",
    "        return self.conv2(self.conv1(cat_x))"
   ]
  },
  {
   "cell_type": "code",
   "execution_count": 57,
   "id": "7e48cbd3-1ee7-4f8e-8109-4e4bf0059df6",
   "metadata": {},
   "outputs": [],
   "source": [
    "def decoder_resnet(y_range, n_out=1):\n",
    "    return nn.Sequential(UpsampleBlock(512), \n",
    "                         UpsampleBlock(256),\n",
    "                         UpsampleBlock(128),\n",
    "                         UpsampleBlock(64),\n",
    "                         UpsampleBlock(32),\n",
    "                         nn.Conv2d(16, n_out, 1),\n",
    "                         SigmoidRange(*y_range)\n",
    "                        )\n",
    "                         \n",
    "def autoencoder(encoder, y_range): return nn.Sequential(encoder, decoder_resnet(y_range))"
   ]
  },
  {
   "cell_type": "code",
   "execution_count": 58,
   "id": "5819c58e-fbc1-494b-a62d-820748df6aef",
   "metadata": {},
   "outputs": [],
   "source": [
    "y_range = (-3.,3.)\n",
    "ac_resnet = autoencoder(arch, y_range).cuda()"
   ]
  },
  {
   "cell_type": "code",
   "execution_count": 59,
   "id": "8796a022-5580-4aff-9f4c-46d2efebfa49",
   "metadata": {},
   "outputs": [],
   "source": [
    "dec = decoder_resnet(y_range).cuda()"
   ]
  },
  {
   "cell_type": "code",
   "execution_count": 60,
   "id": "f2b2be97-1d4e-4e96-a5ce-63b0b14de62f",
   "metadata": {},
   "outputs": [],
   "source": [
    "learn = Learner(dls, ac_resnet, loss_func=MSELossFlat())"
   ]
  },
  {
   "cell_type": "code",
   "execution_count": 61,
   "id": "06aa1224-2c45-4776-a5ce-fb23ed908739",
   "metadata": {},
   "outputs": [],
   "source": [
    "learn.unfreeze()"
   ]
  },
  {
   "cell_type": "code",
   "execution_count": 62,
   "id": "6601d91b-3f16-4039-9ea6-717c1e2937e5",
   "metadata": {},
   "outputs": [],
   "source": [
    "x,y = learn.dls.one_batch()"
   ]
  },
  {
   "cell_type": "code",
   "execution_count": 63,
   "id": "79c1f385-7dfb-4d64-b579-93ba74ee53c5",
   "metadata": {},
   "outputs": [
    {
     "data": {
      "text/plain": [
       "torch.Size([128, 1, 32, 32])"
      ]
     },
     "execution_count": 63,
     "metadata": {},
     "output_type": "execute_result"
    }
   ],
   "source": [
    "y.shape"
   ]
  },
  {
   "cell_type": "code",
   "execution_count": 64,
   "id": "e8fdb8ea-180d-49cb-82f9-01833442145d",
   "metadata": {},
   "outputs": [
    {
     "data": {
      "text/plain": [
       "torch.Size([128, 1, 32, 32])"
      ]
     },
     "execution_count": 64,
     "metadata": {},
     "output_type": "execute_result"
    }
   ],
   "source": [
    "x.shape"
   ]
  },
  {
   "cell_type": "code",
   "execution_count": 65,
   "id": "bbd3b5b7-e4f2-4ac8-a2d9-4b9f1df44f97",
   "metadata": {},
   "outputs": [
    {
     "data": {
      "text/html": [
       "\n",
       "<style>\n",
       "    /* Turns off some styling */\n",
       "    progress {\n",
       "        /* gets rid of default border in Firefox and Opera. */\n",
       "        border: none;\n",
       "        /* Needs to be in here for Safari polyfill so background images work as expected. */\n",
       "        background-size: auto;\n",
       "    }\n",
       "    progress:not([value]), progress:not([value])::-webkit-progress-bar {\n",
       "        background: repeating-linear-gradient(45deg, #7e7e7e, #7e7e7e 10px, #5c5c5c 10px, #5c5c5c 20px);\n",
       "    }\n",
       "    .progress-bar-interrupted, .progress-bar-interrupted::-webkit-progress-bar {\n",
       "        background: #F44336;\n",
       "    }\n",
       "</style>\n"
      ],
      "text/plain": [
       "<IPython.core.display.HTML object>"
      ]
     },
     "metadata": {},
     "output_type": "display_data"
    },
    {
     "data": {
      "text/html": [],
      "text/plain": [
       "<IPython.core.display.HTML object>"
      ]
     },
     "metadata": {},
     "output_type": "display_data"
    },
    {
     "data": {
      "text/plain": [
       "torch.Size([1, 32, 32])"
      ]
     },
     "execution_count": 65,
     "metadata": {},
     "output_type": "execute_result"
    }
   ],
   "source": [
    "learn.predict(learn.dls.train_ds[0][0])[0].shape"
   ]
  },
  {
   "cell_type": "code",
   "execution_count": 68,
   "id": "f36cf142-00a0-4546-97c3-1c953c9fd7d1",
   "metadata": {},
   "outputs": [
    {
     "data": {
      "text/html": [
       "\n",
       "<style>\n",
       "    /* Turns off some styling */\n",
       "    progress {\n",
       "        /* gets rid of default border in Firefox and Opera. */\n",
       "        border: none;\n",
       "        /* Needs to be in here for Safari polyfill so background images work as expected. */\n",
       "        background-size: auto;\n",
       "    }\n",
       "    progress:not([value]), progress:not([value])::-webkit-progress-bar {\n",
       "        background: repeating-linear-gradient(45deg, #7e7e7e, #7e7e7e 10px, #5c5c5c 10px, #5c5c5c 20px);\n",
       "    }\n",
       "    .progress-bar-interrupted, .progress-bar-interrupted::-webkit-progress-bar {\n",
       "        background: #F44336;\n",
       "    }\n",
       "</style>\n"
      ],
      "text/plain": [
       "<IPython.core.display.HTML object>"
      ]
     },
     "metadata": {},
     "output_type": "display_data"
    },
    {
     "data": {
      "text/html": [
       "\n",
       "    <div>\n",
       "      <progress value='0' class='' max='2' style='width:300px; height:20px; vertical-align: middle;'></progress>\n",
       "      0.00% [0/2 00:00&lt;?]\n",
       "    </div>\n",
       "    \n",
       "<table border=\"1\" class=\"dataframe\">\n",
       "  <thead>\n",
       "    <tr style=\"text-align: left;\">\n",
       "      <th>epoch</th>\n",
       "      <th>train_loss</th>\n",
       "      <th>valid_loss</th>\n",
       "      <th>time</th>\n",
       "    </tr>\n",
       "  </thead>\n",
       "  <tbody>\n",
       "  </tbody>\n",
       "</table><p>\n",
       "\n",
       "    <div>\n",
       "      <progress value='109' class='' max='492' style='width:300px; height:20px; vertical-align: middle;'></progress>\n",
       "      22.15% [109/492 00:08&lt;00:30 0.0877]\n",
       "    </div>\n",
       "    "
      ],
      "text/plain": [
       "<IPython.core.display.HTML object>"
      ]
     },
     "metadata": {},
     "output_type": "display_data"
    },
    {
     "ename": "KeyboardInterrupt",
     "evalue": "",
     "output_type": "error",
     "traceback": [
      "\u001b[0;31m---------------------------------------------------------------------------\u001b[0m",
      "\u001b[0;31mKeyboardInterrupt\u001b[0m                         Traceback (most recent call last)",
      "Cell \u001b[0;32mIn [68], line 1\u001b[0m\n\u001b[0;32m----> 1\u001b[0m \u001b[43mlearn\u001b[49m\u001b[38;5;241;43m.\u001b[39;49m\u001b[43mfit_one_cycle\u001b[49m\u001b[43m(\u001b[49m\u001b[38;5;241;43m2\u001b[39;49m\u001b[43m)\u001b[49m\n",
      "File \u001b[0;32m~/anaconda3/envs/workshop/lib/python3.8/site-packages/fastai/callback/schedule.py:119\u001b[0m, in \u001b[0;36mfit_one_cycle\u001b[0;34m(self, n_epoch, lr_max, div, div_final, pct_start, wd, moms, cbs, reset_opt, start_epoch)\u001b[0m\n\u001b[1;32m    116\u001b[0m lr_max \u001b[38;5;241m=\u001b[39m np\u001b[38;5;241m.\u001b[39marray([h[\u001b[38;5;124m'\u001b[39m\u001b[38;5;124mlr\u001b[39m\u001b[38;5;124m'\u001b[39m] \u001b[38;5;28;01mfor\u001b[39;00m h \u001b[38;5;129;01min\u001b[39;00m \u001b[38;5;28mself\u001b[39m\u001b[38;5;241m.\u001b[39mopt\u001b[38;5;241m.\u001b[39mhypers])\n\u001b[1;32m    117\u001b[0m scheds \u001b[38;5;241m=\u001b[39m {\u001b[38;5;124m'\u001b[39m\u001b[38;5;124mlr\u001b[39m\u001b[38;5;124m'\u001b[39m: combined_cos(pct_start, lr_max\u001b[38;5;241m/\u001b[39mdiv, lr_max, lr_max\u001b[38;5;241m/\u001b[39mdiv_final),\n\u001b[1;32m    118\u001b[0m           \u001b[38;5;124m'\u001b[39m\u001b[38;5;124mmom\u001b[39m\u001b[38;5;124m'\u001b[39m: combined_cos(pct_start, \u001b[38;5;241m*\u001b[39m(\u001b[38;5;28mself\u001b[39m\u001b[38;5;241m.\u001b[39mmoms \u001b[38;5;28;01mif\u001b[39;00m moms \u001b[38;5;129;01mis\u001b[39;00m \u001b[38;5;28;01mNone\u001b[39;00m \u001b[38;5;28;01melse\u001b[39;00m moms))}\n\u001b[0;32m--> 119\u001b[0m \u001b[38;5;28;43mself\u001b[39;49m\u001b[38;5;241;43m.\u001b[39;49m\u001b[43mfit\u001b[49m\u001b[43m(\u001b[49m\u001b[43mn_epoch\u001b[49m\u001b[43m,\u001b[49m\u001b[43m \u001b[49m\u001b[43mcbs\u001b[49m\u001b[38;5;241;43m=\u001b[39;49m\u001b[43mParamScheduler\u001b[49m\u001b[43m(\u001b[49m\u001b[43mscheds\u001b[49m\u001b[43m)\u001b[49m\u001b[38;5;241;43m+\u001b[39;49m\u001b[43mL\u001b[49m\u001b[43m(\u001b[49m\u001b[43mcbs\u001b[49m\u001b[43m)\u001b[49m\u001b[43m,\u001b[49m\u001b[43m \u001b[49m\u001b[43mreset_opt\u001b[49m\u001b[38;5;241;43m=\u001b[39;49m\u001b[43mreset_opt\u001b[49m\u001b[43m,\u001b[49m\u001b[43m \u001b[49m\u001b[43mwd\u001b[49m\u001b[38;5;241;43m=\u001b[39;49m\u001b[43mwd\u001b[49m\u001b[43m,\u001b[49m\u001b[43m \u001b[49m\u001b[43mstart_epoch\u001b[49m\u001b[38;5;241;43m=\u001b[39;49m\u001b[43mstart_epoch\u001b[49m\u001b[43m)\u001b[49m\n",
      "File \u001b[0;32m~/anaconda3/envs/workshop/lib/python3.8/site-packages/fastai/learner.py:256\u001b[0m, in \u001b[0;36mLearner.fit\u001b[0;34m(self, n_epoch, lr, wd, cbs, reset_opt, start_epoch)\u001b[0m\n\u001b[1;32m    254\u001b[0m \u001b[38;5;28mself\u001b[39m\u001b[38;5;241m.\u001b[39mopt\u001b[38;5;241m.\u001b[39mset_hypers(lr\u001b[38;5;241m=\u001b[39m\u001b[38;5;28mself\u001b[39m\u001b[38;5;241m.\u001b[39mlr \u001b[38;5;28;01mif\u001b[39;00m lr \u001b[38;5;129;01mis\u001b[39;00m \u001b[38;5;28;01mNone\u001b[39;00m \u001b[38;5;28;01melse\u001b[39;00m lr)\n\u001b[1;32m    255\u001b[0m \u001b[38;5;28mself\u001b[39m\u001b[38;5;241m.\u001b[39mn_epoch \u001b[38;5;241m=\u001b[39m n_epoch\n\u001b[0;32m--> 256\u001b[0m \u001b[38;5;28;43mself\u001b[39;49m\u001b[38;5;241;43m.\u001b[39;49m\u001b[43m_with_events\u001b[49m\u001b[43m(\u001b[49m\u001b[38;5;28;43mself\u001b[39;49m\u001b[38;5;241;43m.\u001b[39;49m\u001b[43m_do_fit\u001b[49m\u001b[43m,\u001b[49m\u001b[43m \u001b[49m\u001b[38;5;124;43m'\u001b[39;49m\u001b[38;5;124;43mfit\u001b[39;49m\u001b[38;5;124;43m'\u001b[39;49m\u001b[43m,\u001b[49m\u001b[43m \u001b[49m\u001b[43mCancelFitException\u001b[49m\u001b[43m,\u001b[49m\u001b[43m \u001b[49m\u001b[38;5;28;43mself\u001b[39;49m\u001b[38;5;241;43m.\u001b[39;49m\u001b[43m_end_cleanup\u001b[49m\u001b[43m)\u001b[49m\n",
      "File \u001b[0;32m~/anaconda3/envs/workshop/lib/python3.8/site-packages/fastai/learner.py:193\u001b[0m, in \u001b[0;36mLearner._with_events\u001b[0;34m(self, f, event_type, ex, final)\u001b[0m\n\u001b[1;32m    192\u001b[0m \u001b[38;5;28;01mdef\u001b[39;00m \u001b[38;5;21m_with_events\u001b[39m(\u001b[38;5;28mself\u001b[39m, f, event_type, ex, final\u001b[38;5;241m=\u001b[39mnoop):\n\u001b[0;32m--> 193\u001b[0m     \u001b[38;5;28;01mtry\u001b[39;00m: \u001b[38;5;28mself\u001b[39m(\u001b[38;5;124mf\u001b[39m\u001b[38;5;124m'\u001b[39m\u001b[38;5;124mbefore_\u001b[39m\u001b[38;5;132;01m{\u001b[39;00mevent_type\u001b[38;5;132;01m}\u001b[39;00m\u001b[38;5;124m'\u001b[39m);  \u001b[43mf\u001b[49m\u001b[43m(\u001b[49m\u001b[43m)\u001b[49m\n\u001b[1;32m    194\u001b[0m     \u001b[38;5;28;01mexcept\u001b[39;00m ex: \u001b[38;5;28mself\u001b[39m(\u001b[38;5;124mf\u001b[39m\u001b[38;5;124m'\u001b[39m\u001b[38;5;124mafter_cancel_\u001b[39m\u001b[38;5;132;01m{\u001b[39;00mevent_type\u001b[38;5;132;01m}\u001b[39;00m\u001b[38;5;124m'\u001b[39m)\n\u001b[1;32m    195\u001b[0m     \u001b[38;5;28mself\u001b[39m(\u001b[38;5;124mf\u001b[39m\u001b[38;5;124m'\u001b[39m\u001b[38;5;124mafter_\u001b[39m\u001b[38;5;132;01m{\u001b[39;00mevent_type\u001b[38;5;132;01m}\u001b[39;00m\u001b[38;5;124m'\u001b[39m);  final()\n",
      "File \u001b[0;32m~/anaconda3/envs/workshop/lib/python3.8/site-packages/fastai/learner.py:245\u001b[0m, in \u001b[0;36mLearner._do_fit\u001b[0;34m(self)\u001b[0m\n\u001b[1;32m    243\u001b[0m \u001b[38;5;28;01mfor\u001b[39;00m epoch \u001b[38;5;129;01min\u001b[39;00m \u001b[38;5;28mrange\u001b[39m(\u001b[38;5;28mself\u001b[39m\u001b[38;5;241m.\u001b[39mn_epoch):\n\u001b[1;32m    244\u001b[0m     \u001b[38;5;28mself\u001b[39m\u001b[38;5;241m.\u001b[39mepoch\u001b[38;5;241m=\u001b[39mepoch\n\u001b[0;32m--> 245\u001b[0m     \u001b[38;5;28;43mself\u001b[39;49m\u001b[38;5;241;43m.\u001b[39;49m\u001b[43m_with_events\u001b[49m\u001b[43m(\u001b[49m\u001b[38;5;28;43mself\u001b[39;49m\u001b[38;5;241;43m.\u001b[39;49m\u001b[43m_do_epoch\u001b[49m\u001b[43m,\u001b[49m\u001b[43m \u001b[49m\u001b[38;5;124;43m'\u001b[39;49m\u001b[38;5;124;43mepoch\u001b[39;49m\u001b[38;5;124;43m'\u001b[39;49m\u001b[43m,\u001b[49m\u001b[43m \u001b[49m\u001b[43mCancelEpochException\u001b[49m\u001b[43m)\u001b[49m\n",
      "File \u001b[0;32m~/anaconda3/envs/workshop/lib/python3.8/site-packages/fastai/learner.py:193\u001b[0m, in \u001b[0;36mLearner._with_events\u001b[0;34m(self, f, event_type, ex, final)\u001b[0m\n\u001b[1;32m    192\u001b[0m \u001b[38;5;28;01mdef\u001b[39;00m \u001b[38;5;21m_with_events\u001b[39m(\u001b[38;5;28mself\u001b[39m, f, event_type, ex, final\u001b[38;5;241m=\u001b[39mnoop):\n\u001b[0;32m--> 193\u001b[0m     \u001b[38;5;28;01mtry\u001b[39;00m: \u001b[38;5;28mself\u001b[39m(\u001b[38;5;124mf\u001b[39m\u001b[38;5;124m'\u001b[39m\u001b[38;5;124mbefore_\u001b[39m\u001b[38;5;132;01m{\u001b[39;00mevent_type\u001b[38;5;132;01m}\u001b[39;00m\u001b[38;5;124m'\u001b[39m);  \u001b[43mf\u001b[49m\u001b[43m(\u001b[49m\u001b[43m)\u001b[49m\n\u001b[1;32m    194\u001b[0m     \u001b[38;5;28;01mexcept\u001b[39;00m ex: \u001b[38;5;28mself\u001b[39m(\u001b[38;5;124mf\u001b[39m\u001b[38;5;124m'\u001b[39m\u001b[38;5;124mafter_cancel_\u001b[39m\u001b[38;5;132;01m{\u001b[39;00mevent_type\u001b[38;5;132;01m}\u001b[39;00m\u001b[38;5;124m'\u001b[39m)\n\u001b[1;32m    195\u001b[0m     \u001b[38;5;28mself\u001b[39m(\u001b[38;5;124mf\u001b[39m\u001b[38;5;124m'\u001b[39m\u001b[38;5;124mafter_\u001b[39m\u001b[38;5;132;01m{\u001b[39;00mevent_type\u001b[38;5;132;01m}\u001b[39;00m\u001b[38;5;124m'\u001b[39m);  final()\n",
      "File \u001b[0;32m~/anaconda3/envs/workshop/lib/python3.8/site-packages/fastai/learner.py:239\u001b[0m, in \u001b[0;36mLearner._do_epoch\u001b[0;34m(self)\u001b[0m\n\u001b[1;32m    238\u001b[0m \u001b[38;5;28;01mdef\u001b[39;00m \u001b[38;5;21m_do_epoch\u001b[39m(\u001b[38;5;28mself\u001b[39m):\n\u001b[0;32m--> 239\u001b[0m     \u001b[38;5;28;43mself\u001b[39;49m\u001b[38;5;241;43m.\u001b[39;49m\u001b[43m_do_epoch_train\u001b[49m\u001b[43m(\u001b[49m\u001b[43m)\u001b[49m\n\u001b[1;32m    240\u001b[0m     \u001b[38;5;28mself\u001b[39m\u001b[38;5;241m.\u001b[39m_do_epoch_validate()\n",
      "File \u001b[0;32m~/anaconda3/envs/workshop/lib/python3.8/site-packages/fastai/learner.py:231\u001b[0m, in \u001b[0;36mLearner._do_epoch_train\u001b[0;34m(self)\u001b[0m\n\u001b[1;32m    229\u001b[0m \u001b[38;5;28;01mdef\u001b[39;00m \u001b[38;5;21m_do_epoch_train\u001b[39m(\u001b[38;5;28mself\u001b[39m):\n\u001b[1;32m    230\u001b[0m     \u001b[38;5;28mself\u001b[39m\u001b[38;5;241m.\u001b[39mdl \u001b[38;5;241m=\u001b[39m \u001b[38;5;28mself\u001b[39m\u001b[38;5;241m.\u001b[39mdls\u001b[38;5;241m.\u001b[39mtrain\n\u001b[0;32m--> 231\u001b[0m     \u001b[38;5;28;43mself\u001b[39;49m\u001b[38;5;241;43m.\u001b[39;49m\u001b[43m_with_events\u001b[49m\u001b[43m(\u001b[49m\u001b[38;5;28;43mself\u001b[39;49m\u001b[38;5;241;43m.\u001b[39;49m\u001b[43mall_batches\u001b[49m\u001b[43m,\u001b[49m\u001b[43m \u001b[49m\u001b[38;5;124;43m'\u001b[39;49m\u001b[38;5;124;43mtrain\u001b[39;49m\u001b[38;5;124;43m'\u001b[39;49m\u001b[43m,\u001b[49m\u001b[43m \u001b[49m\u001b[43mCancelTrainException\u001b[49m\u001b[43m)\u001b[49m\n",
      "File \u001b[0;32m~/anaconda3/envs/workshop/lib/python3.8/site-packages/fastai/learner.py:193\u001b[0m, in \u001b[0;36mLearner._with_events\u001b[0;34m(self, f, event_type, ex, final)\u001b[0m\n\u001b[1;32m    192\u001b[0m \u001b[38;5;28;01mdef\u001b[39;00m \u001b[38;5;21m_with_events\u001b[39m(\u001b[38;5;28mself\u001b[39m, f, event_type, ex, final\u001b[38;5;241m=\u001b[39mnoop):\n\u001b[0;32m--> 193\u001b[0m     \u001b[38;5;28;01mtry\u001b[39;00m: \u001b[38;5;28mself\u001b[39m(\u001b[38;5;124mf\u001b[39m\u001b[38;5;124m'\u001b[39m\u001b[38;5;124mbefore_\u001b[39m\u001b[38;5;132;01m{\u001b[39;00mevent_type\u001b[38;5;132;01m}\u001b[39;00m\u001b[38;5;124m'\u001b[39m);  \u001b[43mf\u001b[49m\u001b[43m(\u001b[49m\u001b[43m)\u001b[49m\n\u001b[1;32m    194\u001b[0m     \u001b[38;5;28;01mexcept\u001b[39;00m ex: \u001b[38;5;28mself\u001b[39m(\u001b[38;5;124mf\u001b[39m\u001b[38;5;124m'\u001b[39m\u001b[38;5;124mafter_cancel_\u001b[39m\u001b[38;5;132;01m{\u001b[39;00mevent_type\u001b[38;5;132;01m}\u001b[39;00m\u001b[38;5;124m'\u001b[39m)\n\u001b[1;32m    195\u001b[0m     \u001b[38;5;28mself\u001b[39m(\u001b[38;5;124mf\u001b[39m\u001b[38;5;124m'\u001b[39m\u001b[38;5;124mafter_\u001b[39m\u001b[38;5;132;01m{\u001b[39;00mevent_type\u001b[38;5;132;01m}\u001b[39;00m\u001b[38;5;124m'\u001b[39m);  final()\n",
      "File \u001b[0;32m~/anaconda3/envs/workshop/lib/python3.8/site-packages/fastai/learner.py:199\u001b[0m, in \u001b[0;36mLearner.all_batches\u001b[0;34m(self)\u001b[0m\n\u001b[1;32m    197\u001b[0m \u001b[38;5;28;01mdef\u001b[39;00m \u001b[38;5;21mall_batches\u001b[39m(\u001b[38;5;28mself\u001b[39m):\n\u001b[1;32m    198\u001b[0m     \u001b[38;5;28mself\u001b[39m\u001b[38;5;241m.\u001b[39mn_iter \u001b[38;5;241m=\u001b[39m \u001b[38;5;28mlen\u001b[39m(\u001b[38;5;28mself\u001b[39m\u001b[38;5;241m.\u001b[39mdl)\n\u001b[0;32m--> 199\u001b[0m     \u001b[38;5;28;01mfor\u001b[39;00m o \u001b[38;5;129;01min\u001b[39;00m \u001b[38;5;28menumerate\u001b[39m(\u001b[38;5;28mself\u001b[39m\u001b[38;5;241m.\u001b[39mdl): \u001b[38;5;28;43mself\u001b[39;49m\u001b[38;5;241;43m.\u001b[39;49m\u001b[43mone_batch\u001b[49m\u001b[43m(\u001b[49m\u001b[38;5;241;43m*\u001b[39;49m\u001b[43mo\u001b[49m\u001b[43m)\u001b[49m\n",
      "File \u001b[0;32m~/anaconda3/envs/workshop/lib/python3.8/site-packages/fastai/learner.py:227\u001b[0m, in \u001b[0;36mLearner.one_batch\u001b[0;34m(self, i, b)\u001b[0m\n\u001b[1;32m    225\u001b[0m b \u001b[38;5;241m=\u001b[39m \u001b[38;5;28mself\u001b[39m\u001b[38;5;241m.\u001b[39m_set_device(b)\n\u001b[1;32m    226\u001b[0m \u001b[38;5;28mself\u001b[39m\u001b[38;5;241m.\u001b[39m_split(b)\n\u001b[0;32m--> 227\u001b[0m \u001b[38;5;28;43mself\u001b[39;49m\u001b[38;5;241;43m.\u001b[39;49m\u001b[43m_with_events\u001b[49m\u001b[43m(\u001b[49m\u001b[38;5;28;43mself\u001b[39;49m\u001b[38;5;241;43m.\u001b[39;49m\u001b[43m_do_one_batch\u001b[49m\u001b[43m,\u001b[49m\u001b[43m \u001b[49m\u001b[38;5;124;43m'\u001b[39;49m\u001b[38;5;124;43mbatch\u001b[39;49m\u001b[38;5;124;43m'\u001b[39;49m\u001b[43m,\u001b[49m\u001b[43m \u001b[49m\u001b[43mCancelBatchException\u001b[49m\u001b[43m)\u001b[49m\n",
      "File \u001b[0;32m~/anaconda3/envs/workshop/lib/python3.8/site-packages/fastai/learner.py:193\u001b[0m, in \u001b[0;36mLearner._with_events\u001b[0;34m(self, f, event_type, ex, final)\u001b[0m\n\u001b[1;32m    192\u001b[0m \u001b[38;5;28;01mdef\u001b[39;00m \u001b[38;5;21m_with_events\u001b[39m(\u001b[38;5;28mself\u001b[39m, f, event_type, ex, final\u001b[38;5;241m=\u001b[39mnoop):\n\u001b[0;32m--> 193\u001b[0m     \u001b[38;5;28;01mtry\u001b[39;00m: \u001b[38;5;28mself\u001b[39m(\u001b[38;5;124mf\u001b[39m\u001b[38;5;124m'\u001b[39m\u001b[38;5;124mbefore_\u001b[39m\u001b[38;5;132;01m{\u001b[39;00mevent_type\u001b[38;5;132;01m}\u001b[39;00m\u001b[38;5;124m'\u001b[39m);  \u001b[43mf\u001b[49m\u001b[43m(\u001b[49m\u001b[43m)\u001b[49m\n\u001b[1;32m    194\u001b[0m     \u001b[38;5;28;01mexcept\u001b[39;00m ex: \u001b[38;5;28mself\u001b[39m(\u001b[38;5;124mf\u001b[39m\u001b[38;5;124m'\u001b[39m\u001b[38;5;124mafter_cancel_\u001b[39m\u001b[38;5;132;01m{\u001b[39;00mevent_type\u001b[38;5;132;01m}\u001b[39;00m\u001b[38;5;124m'\u001b[39m)\n\u001b[1;32m    195\u001b[0m     \u001b[38;5;28mself\u001b[39m(\u001b[38;5;124mf\u001b[39m\u001b[38;5;124m'\u001b[39m\u001b[38;5;124mafter_\u001b[39m\u001b[38;5;132;01m{\u001b[39;00mevent_type\u001b[38;5;132;01m}\u001b[39;00m\u001b[38;5;124m'\u001b[39m);  final()\n",
      "File \u001b[0;32m~/anaconda3/envs/workshop/lib/python3.8/site-packages/fastai/learner.py:213\u001b[0m, in \u001b[0;36mLearner._do_one_batch\u001b[0;34m(self)\u001b[0m\n\u001b[1;32m    211\u001b[0m \u001b[38;5;28;01mif\u001b[39;00m \u001b[38;5;129;01mnot\u001b[39;00m \u001b[38;5;28mself\u001b[39m\u001b[38;5;241m.\u001b[39mtraining \u001b[38;5;129;01mor\u001b[39;00m \u001b[38;5;129;01mnot\u001b[39;00m \u001b[38;5;28mlen\u001b[39m(\u001b[38;5;28mself\u001b[39m\u001b[38;5;241m.\u001b[39myb): \u001b[38;5;28;01mreturn\u001b[39;00m\n\u001b[1;32m    212\u001b[0m \u001b[38;5;28mself\u001b[39m\u001b[38;5;241m.\u001b[39m_with_events(\u001b[38;5;28mself\u001b[39m\u001b[38;5;241m.\u001b[39m_backward, \u001b[38;5;124m'\u001b[39m\u001b[38;5;124mbackward\u001b[39m\u001b[38;5;124m'\u001b[39m, CancelBackwardException)\n\u001b[0;32m--> 213\u001b[0m \u001b[38;5;28;43mself\u001b[39;49m\u001b[38;5;241;43m.\u001b[39;49m\u001b[43m_with_events\u001b[49m\u001b[43m(\u001b[49m\u001b[38;5;28;43mself\u001b[39;49m\u001b[38;5;241;43m.\u001b[39;49m\u001b[43m_step\u001b[49m\u001b[43m,\u001b[49m\u001b[43m \u001b[49m\u001b[38;5;124;43m'\u001b[39;49m\u001b[38;5;124;43mstep\u001b[39;49m\u001b[38;5;124;43m'\u001b[39;49m\u001b[43m,\u001b[49m\u001b[43m \u001b[49m\u001b[43mCancelStepException\u001b[49m\u001b[43m)\u001b[49m\n\u001b[1;32m    214\u001b[0m \u001b[38;5;28mself\u001b[39m\u001b[38;5;241m.\u001b[39mopt\u001b[38;5;241m.\u001b[39mzero_grad()\n",
      "File \u001b[0;32m~/anaconda3/envs/workshop/lib/python3.8/site-packages/fastai/learner.py:193\u001b[0m, in \u001b[0;36mLearner._with_events\u001b[0;34m(self, f, event_type, ex, final)\u001b[0m\n\u001b[1;32m    192\u001b[0m \u001b[38;5;28;01mdef\u001b[39;00m \u001b[38;5;21m_with_events\u001b[39m(\u001b[38;5;28mself\u001b[39m, f, event_type, ex, final\u001b[38;5;241m=\u001b[39mnoop):\n\u001b[0;32m--> 193\u001b[0m     \u001b[38;5;28;01mtry\u001b[39;00m: \u001b[38;5;28mself\u001b[39m(\u001b[38;5;124mf\u001b[39m\u001b[38;5;124m'\u001b[39m\u001b[38;5;124mbefore_\u001b[39m\u001b[38;5;132;01m{\u001b[39;00mevent_type\u001b[38;5;132;01m}\u001b[39;00m\u001b[38;5;124m'\u001b[39m);  \u001b[43mf\u001b[49m\u001b[43m(\u001b[49m\u001b[43m)\u001b[49m\n\u001b[1;32m    194\u001b[0m     \u001b[38;5;28;01mexcept\u001b[39;00m ex: \u001b[38;5;28mself\u001b[39m(\u001b[38;5;124mf\u001b[39m\u001b[38;5;124m'\u001b[39m\u001b[38;5;124mafter_cancel_\u001b[39m\u001b[38;5;132;01m{\u001b[39;00mevent_type\u001b[38;5;132;01m}\u001b[39;00m\u001b[38;5;124m'\u001b[39m)\n\u001b[1;32m    195\u001b[0m     \u001b[38;5;28mself\u001b[39m(\u001b[38;5;124mf\u001b[39m\u001b[38;5;124m'\u001b[39m\u001b[38;5;124mafter_\u001b[39m\u001b[38;5;132;01m{\u001b[39;00mevent_type\u001b[38;5;132;01m}\u001b[39;00m\u001b[38;5;124m'\u001b[39m);  final()\n",
      "File \u001b[0;32m~/anaconda3/envs/workshop/lib/python3.8/site-packages/fastai/learner.py:202\u001b[0m, in \u001b[0;36mLearner._step\u001b[0;34m(self)\u001b[0m\n\u001b[0;32m--> 202\u001b[0m \u001b[38;5;28;01mdef\u001b[39;00m \u001b[38;5;21m_step\u001b[39m(\u001b[38;5;28mself\u001b[39m): \u001b[38;5;28;43mself\u001b[39;49m\u001b[38;5;241;43m.\u001b[39;49m\u001b[43mopt\u001b[49m\u001b[38;5;241;43m.\u001b[39;49m\u001b[43mstep\u001b[49m\u001b[43m(\u001b[49m\u001b[43m)\u001b[49m\n",
      "File \u001b[0;32m~/anaconda3/envs/workshop/lib/python3.8/site-packages/fastai/optimizer.py:110\u001b[0m, in \u001b[0;36mOptimizer.step\u001b[0;34m(self, closure)\u001b[0m\n\u001b[1;32m    108\u001b[0m \u001b[38;5;28;01mif\u001b[39;00m closure \u001b[38;5;129;01mis\u001b[39;00m \u001b[38;5;129;01mnot\u001b[39;00m \u001b[38;5;28;01mNone\u001b[39;00m: \u001b[38;5;28;01mraise\u001b[39;00m \u001b[38;5;167;01mNotImplementedError\u001b[39;00m(\u001b[38;5;124m\"\u001b[39m\u001b[38;5;124mfastai optimizers currently do not support closure\u001b[39m\u001b[38;5;124m\"\u001b[39m)\n\u001b[1;32m    109\u001b[0m \u001b[38;5;28;01mfor\u001b[39;00m p,pg,state,hyper \u001b[38;5;129;01min\u001b[39;00m \u001b[38;5;28mself\u001b[39m\u001b[38;5;241m.\u001b[39mall_params(with_grad\u001b[38;5;241m=\u001b[39m\u001b[38;5;28;01mTrue\u001b[39;00m):\n\u001b[0;32m--> 110\u001b[0m     \u001b[38;5;28;01mfor\u001b[39;00m cb \u001b[38;5;129;01min\u001b[39;00m \u001b[38;5;28mself\u001b[39m\u001b[38;5;241m.\u001b[39mcbs: state \u001b[38;5;241m=\u001b[39m _update(state, \u001b[43mcb\u001b[49m\u001b[43m(\u001b[49m\u001b[43mp\u001b[49m\u001b[43m,\u001b[49m\u001b[43m \u001b[49m\u001b[38;5;241;43m*\u001b[39;49m\u001b[38;5;241;43m*\u001b[39;49m\u001b[43m{\u001b[49m\u001b[38;5;241;43m*\u001b[39;49m\u001b[38;5;241;43m*\u001b[39;49m\u001b[43mstate\u001b[49m\u001b[43m,\u001b[49m\u001b[43m \u001b[49m\u001b[38;5;241;43m*\u001b[39;49m\u001b[38;5;241;43m*\u001b[39;49m\u001b[43mhyper\u001b[49m\u001b[43m}\u001b[49m\u001b[43m)\u001b[49m)\n\u001b[1;32m    111\u001b[0m     \u001b[38;5;28mself\u001b[39m\u001b[38;5;241m.\u001b[39mstate[p] \u001b[38;5;241m=\u001b[39m state\n",
      "File \u001b[0;32m~/anaconda3/envs/workshop/lib/python3.8/site-packages/fastai/optimizer.py:152\u001b[0m, in \u001b[0;36maverage_grad\u001b[0;34m(p, mom, dampening, grad_avg, **kwargs)\u001b[0m\n\u001b[1;32m    150\u001b[0m \u001b[38;5;28;01mif\u001b[39;00m grad_avg \u001b[38;5;129;01mis\u001b[39;00m \u001b[38;5;28;01mNone\u001b[39;00m: grad_avg \u001b[38;5;241m=\u001b[39m torch\u001b[38;5;241m.\u001b[39mzeros_like(p\u001b[38;5;241m.\u001b[39mgrad\u001b[38;5;241m.\u001b[39mdata)\n\u001b[1;32m    151\u001b[0m damp \u001b[38;5;241m=\u001b[39m \u001b[38;5;241m1\u001b[39m\u001b[38;5;241m-\u001b[39mmom \u001b[38;5;28;01mif\u001b[39;00m dampening \u001b[38;5;28;01melse\u001b[39;00m \u001b[38;5;241m1.\u001b[39m\n\u001b[0;32m--> 152\u001b[0m \u001b[43mgrad_avg\u001b[49m\u001b[38;5;241;43m.\u001b[39;49m\u001b[43mmul_\u001b[49m\u001b[43m(\u001b[49m\u001b[43mmom\u001b[49m\u001b[43m)\u001b[49m\u001b[38;5;241;43m.\u001b[39;49m\u001b[43madd_\u001b[49m\u001b[43m(\u001b[49m\u001b[43mp\u001b[49m\u001b[38;5;241;43m.\u001b[39;49m\u001b[43mgrad\u001b[49m\u001b[38;5;241;43m.\u001b[39;49m\u001b[43mdata\u001b[49m\u001b[43m,\u001b[49m\u001b[43m \u001b[49m\u001b[43malpha\u001b[49m\u001b[38;5;241;43m=\u001b[39;49m\u001b[43mdamp\u001b[49m\u001b[43m)\u001b[49m\n\u001b[1;32m    153\u001b[0m \u001b[38;5;28;01mreturn\u001b[39;00m {\u001b[38;5;124m'\u001b[39m\u001b[38;5;124mgrad_avg\u001b[39m\u001b[38;5;124m'\u001b[39m: grad_avg}\n",
      "\u001b[0;31mKeyboardInterrupt\u001b[0m: "
     ]
    }
   ],
   "source": [
    "learn.fit_one_cycle(2)"
   ]
  },
  {
   "cell_type": "code",
   "execution_count": 49,
   "id": "5a0f2cb9-4a10-4335-99fc-d58545a77343",
   "metadata": {},
   "outputs": [
    {
     "data": {
      "text/html": [
       "\n",
       "<style>\n",
       "    /* Turns off some styling */\n",
       "    progress {\n",
       "        /* gets rid of default border in Firefox and Opera. */\n",
       "        border: none;\n",
       "        /* Needs to be in here for Safari polyfill so background images work as expected. */\n",
       "        background-size: auto;\n",
       "    }\n",
       "    progress:not([value]), progress:not([value])::-webkit-progress-bar {\n",
       "        background: repeating-linear-gradient(45deg, #7e7e7e, #7e7e7e 10px, #5c5c5c 10px, #5c5c5c 20px);\n",
       "    }\n",
       "    .progress-bar-interrupted, .progress-bar-interrupted::-webkit-progress-bar {\n",
       "        background: #F44336;\n",
       "    }\n",
       "</style>\n"
      ],
      "text/plain": [
       "<IPython.core.display.HTML object>"
      ]
     },
     "metadata": {},
     "output_type": "display_data"
    },
    {
     "data": {
      "text/html": [],
      "text/plain": [
       "<IPython.core.display.HTML object>"
      ]
     },
     "metadata": {},
     "output_type": "display_data"
    },
    {
     "data": {
      "image/png": "[encoded data removed]",
      "text/plain": [
       "<Figure size 900x2700 with 27 Axes>"
      ]
     },
     "metadata": {},
     "output_type": "display_data"
    }
   ],
   "source": [
    "learn.show_results()"
   ]
  },
  {
   "cell_type": "code",
   "execution_count": 50,
   "id": "613af430-c1b7-4cf1-a132-1eec0886cf1f",
   "metadata": {},
   "outputs": [
    {
     "data": {
      "text/plain": [
       "Path('models/resent_18_stage_1.pth')"
      ]
     },
     "execution_count": 50,
     "metadata": {},
     "output_type": "execute_result"
    }
   ],
   "source": [
    "learn.save(\"resent_18_stage_1\")"
   ]
  },
  {
   "cell_type": "code",
   "execution_count": 51,
   "id": "b4381b57-130d-425c-bdd0-150b0fdfd09e",
   "metadata": {},
   "outputs": [
    {
     "data": {
      "text/html": [
       "\n",
       "<style>\n",
       "    /* Turns off some styling */\n",
       "    progress {\n",
       "        /* gets rid of default border in Firefox and Opera. */\n",
       "        border: none;\n",
       "        /* Needs to be in here for Safari polyfill so background images work as expected. */\n",
       "        background-size: auto;\n",
       "    }\n",
       "    progress:not([value]), progress:not([value])::-webkit-progress-bar {\n",
       "        background: repeating-linear-gradient(45deg, #7e7e7e, #7e7e7e 10px, #5c5c5c 10px, #5c5c5c 20px);\n",
       "    }\n",
       "    .progress-bar-interrupted, .progress-bar-interrupted::-webkit-progress-bar {\n",
       "        background: #F44336;\n",
       "    }\n",
       "</style>\n"
      ],
      "text/plain": [
       "<IPython.core.display.HTML object>"
      ]
     },
     "metadata": {},
     "output_type": "display_data"
    },
    {
     "data": {
      "text/html": [
       "<table border=\"1\" class=\"dataframe\">\n",
       "  <thead>\n",
       "    <tr style=\"text-align: left;\">\n",
       "      <th>epoch</th>\n",
       "      <th>train_loss</th>\n",
       "      <th>valid_loss</th>\n",
       "      <th>time</th>\n",
       "    </tr>\n",
       "  </thead>\n",
       "  <tbody>\n",
       "    <tr>\n",
       "      <td>0</td>\n",
       "      <td>0.084348</td>\n",
       "      <td>0.088633</td>\n",
       "      <td>01:03</td>\n",
       "    </tr>\n",
       "    <tr>\n",
       "      <td>1</td>\n",
       "      <td>0.091461</td>\n",
       "      <td>0.094150</td>\n",
       "      <td>01:04</td>\n",
       "    </tr>\n",
       "    <tr>\n",
       "      <td>2</td>\n",
       "      <td>0.077462</td>\n",
       "      <td>0.078208</td>\n",
       "      <td>01:00</td>\n",
       "    </tr>\n",
       "    <tr>\n",
       "      <td>3</td>\n",
       "      <td>0.066613</td>\n",
       "      <td>0.076418</td>\n",
       "      <td>00:59</td>\n",
       "    </tr>\n",
       "    <tr>\n",
       "      <td>4</td>\n",
       "      <td>0.056895</td>\n",
       "      <td>0.057089</td>\n",
       "      <td>00:58</td>\n",
       "    </tr>\n",
       "    <tr>\n",
       "      <td>5</td>\n",
       "      <td>0.049870</td>\n",
       "      <td>0.052030</td>\n",
       "      <td>01:01</td>\n",
       "    </tr>\n",
       "    <tr>\n",
       "      <td>6</td>\n",
       "      <td>0.043001</td>\n",
       "      <td>0.041958</td>\n",
       "      <td>01:03</td>\n",
       "    </tr>\n",
       "    <tr>\n",
       "      <td>7</td>\n",
       "      <td>0.038366</td>\n",
       "      <td>0.038070</td>\n",
       "      <td>01:00</td>\n",
       "    </tr>\n",
       "    <tr>\n",
       "      <td>8</td>\n",
       "      <td>0.036230</td>\n",
       "      <td>0.035706</td>\n",
       "      <td>01:02</td>\n",
       "    </tr>\n",
       "    <tr>\n",
       "      <td>9</td>\n",
       "      <td>0.034903</td>\n",
       "      <td>0.034977</td>\n",
       "      <td>01:01</td>\n",
       "    </tr>\n",
       "  </tbody>\n",
       "</table>"
      ],
      "text/plain": [
       "<IPython.core.display.HTML object>"
      ]
     },
     "metadata": {},
     "output_type": "display_data"
    }
   ],
   "source": [
    "learn.fit_one_cycle(10)"
   ]
  },
  {
   "cell_type": "code",
   "execution_count": 52,
   "id": "b0e3513f-6d1e-4339-999a-356c01bea853",
   "metadata": {},
   "outputs": [
    {
     "data": {
      "text/html": [
       "\n",
       "<style>\n",
       "    /* Turns off some styling */\n",
       "    progress {\n",
       "        /* gets rid of default border in Firefox and Opera. */\n",
       "        border: none;\n",
       "        /* Needs to be in here for Safari polyfill so background images work as expected. */\n",
       "        background-size: auto;\n",
       "    }\n",
       "    progress:not([value]), progress:not([value])::-webkit-progress-bar {\n",
       "        background: repeating-linear-gradient(45deg, #7e7e7e, #7e7e7e 10px, #5c5c5c 10px, #5c5c5c 20px);\n",
       "    }\n",
       "    .progress-bar-interrupted, .progress-bar-interrupted::-webkit-progress-bar {\n",
       "        background: #F44336;\n",
       "    }\n",
       "</style>\n"
      ],
      "text/plain": [
       "<IPython.core.display.HTML object>"
      ]
     },
     "metadata": {},
     "output_type": "display_data"
    },
    {
     "data": {
      "text/html": [],
      "text/plain": [
       "<IPython.core.display.HTML object>"
      ]
     },
     "metadata": {},
     "output_type": "display_data"
    },
    {
     "data": {
      "image/png": "[encoded data removed]",
      "text/plain": [
       "<Figure size 900x2700 with 27 Axes>"
      ]
     },
     "metadata": {},
     "output_type": "display_data"
    }
   ],
   "source": [
    "learn.show_results()"
   ]
  },
  {
   "cell_type": "code",
   "execution_count": null,
   "id": "7924b906-a8d1-411a-b201-465e467bc276",
   "metadata": {},
   "outputs": [],
   "source": [
    "learn.save(\"resent_18_stage_32_2\")"
   ]
  },
  {
   "cell_type": "code",
   "execution_count": null,
   "id": "b6eca4cc-0266-4f82-b827-a80d653e0063",
   "metadata": {},
   "outputs": [],
   "source": [
    "learn.unfreeze()"
   ]
  },
  {
   "cell_type": "code",
   "execution_count": null,
   "id": "26d1de91-1bd5-4e85-98a1-ec103dd2077d",
   "metadata": {},
   "outputs": [],
   "source": [
    "learn.lr_find()"
   ]
  },
  {
   "cell_type": "code",
   "execution_count": null,
   "id": "eae16d41-fed9-483b-aba5-93aba8520945",
   "metadata": {},
   "outputs": [],
   "source": [
    "learn.fit_one_cycle(10, slice(1e-6,1e-4))"
   ]
  },
  {
   "cell_type": "code",
   "execution_count": null,
   "id": "bcd9e38d-f846-4ae3-a976-51916435a32b",
   "metadata": {},
   "outputs": [],
   "source": [
    "learn.show_results()"
   ]
  },
  {
   "cell_type": "code",
   "execution_count": null,
   "id": "5227f309-dcd3-4db5-92eb-8a8bcfc753fe",
   "metadata": {},
   "outputs": [],
   "source": [
    "learn.save(\"resent_18_stage_3\")"
   ]
  },
  {
   "cell_type": "code",
   "execution_count": null,
   "id": "a6558a8b-f169-4093-a050-f805018c074c",
   "metadata": {},
   "outputs": [],
   "source": [
    "learn.lr_find()"
   ]
  },
  {
   "cell_type": "code",
   "execution_count": null,
   "id": "a427a14a-baa1-4db1-8839-163caaeb276e",
   "metadata": {},
   "outputs": [],
   "source": [
    "learn.fit_one_cycle(20, slice(1e-5,1e-3))"
   ]
  },
  {
   "cell_type": "code",
   "execution_count": null,
   "id": "705650ee-8cce-480d-b94e-2ebbdef6ba24",
   "metadata": {},
   "outputs": [],
   "source": [
    "learn.show_results()"
   ]
  },
  {
   "cell_type": "code",
   "execution_count": null,
   "id": "16467ef5-2856-4957-8d48-0cf0e101598d",
   "metadata": {},
   "outputs": [],
   "source": [
    "learn.save(\"resent_18_stage_4\")"
   ]
  },
  {
   "cell_type": "code",
   "execution_count": null,
   "id": "97e927c4-b809-4c3b-bd3f-bc02d7badeac",
   "metadata": {},
   "outputs": [],
   "source": [
    "learn.lr_find()"
   ]
  },
  {
   "cell_type": "code",
   "execution_count": null,
   "id": "79b6bcf7-92c3-448f-a5c2-25e5f39f5930",
   "metadata": {},
   "outputs": [],
   "source": [
    "learn.fit_flat_cos(20,slice(1e-5,1e-4))"
   ]
  },
  {
   "cell_type": "code",
   "execution_count": null,
   "id": "98c43b38-ebf3-4fb8-9b5f-2594468719ab",
   "metadata": {},
   "outputs": [],
   "source": [
    "learn.show_results()"
   ]
  },
  {
   "cell_type": "code",
   "execution_count": null,
   "id": "3af7c3aa-d322-455b-a649-b4e84b75710b",
   "metadata": {},
   "outputs": [],
   "source": []
  },
  {
   "cell_type": "code",
   "execution_count": null,
   "id": "83721a7b-a619-4a06-a73d-6cbb5e02e994",
   "metadata": {},
   "outputs": [],
   "source": [
    "learn.save(\"resent_18_stage_5\")"
   ]
  },
  {
   "cell_type": "code",
   "execution_count": null,
   "id": "28f5c28e-da98-4405-acf9-28cd45b8877e",
   "metadata": {},
   "outputs": [],
   "source": [
    "learn.fit_one_cycle(200, slice(1e-5,1e-3))"
   ]
  },
  {
   "cell_type": "code",
   "execution_count": null,
   "id": "26bb15c1-a621-47fe-84a3-87798b1b331a",
   "metadata": {},
   "outputs": [],
   "source": [
    "learn.show_results()"
   ]
  },
  {
   "cell_type": "code",
   "execution_count": null,
   "id": "93910a81-edab-4f64-b7bd-32387f888adf",
   "metadata": {},
   "outputs": [],
   "source": [
    "learn.save(\"resent_18_stage_6\")"
   ]
  },
  {
   "cell_type": "code",
   "execution_count": null,
   "id": "8ceb3957-bb2f-403e-871f-bad6c68cc0c5",
   "metadata": {},
   "outputs": [],
   "source": [
    "def get_image(filename):\n",
    "    image = Image.open(filename)\n",
    "    image = image.resize((256,256))\n",
    "    image = np.array(image)\n",
    "    image = PILImage.create(image)\n",
    "    image = TensorImage(image).permute(2,0,1)\n",
    "    return image"
   ]
  },
  {
   "cell_type": "markdown",
   "id": "710dca64-51a5-4a8a-956f-a606e4909aa5",
   "metadata": {},
   "source": [
    "Test mit Fehler"
   ]
  },
  {
   "cell_type": "code",
   "execution_count": null,
   "id": "6b0e110e-3555-4b5c-a22f-0a60889e19c0",
   "metadata": {},
   "outputs": [],
   "source": [
    "image = get_image(task_path/\"test\"/\"poke\"/\"001.png\")\n",
    "predicted = learn.predict(image)[0]\n",
    "\n",
    "heatmap = np.sum(np.absolute(np.array(predicted - image)),axis=0)\n",
    "mask =  heatmap > heatmap.max()*0.5\n",
    "\n",
    "plt.imshow(mask)\n",
    "\n",
    "contours, hierarchy = cv2.findContours(image=mask.astype(np.uint8), mode=cv2.RETR_TREE, method=cv2.CHAIN_APPROX_NONE)    \n",
    "f,axes = plt.subplots(ncols=3,nrows=1,figsize=(20,8))\n",
    "axes[0].imshow(image.permute(1,2,0), cmap=\"gray\")\n",
    "axes[1].imshow(predicted.permute(1,2,0), cmap=\"gray\")\n",
    "\n",
    "axes[2].imshow(image.permute(1,2,0), cmap=\"gray\")\n",
    "for cont in contours:\n",
    "    if len(cont) == 1:\n",
    "        continue\n",
    "    cont = np.squeeze(cont)    \n",
    "    axes[2].plot(cont[:,0], cont[:,1], \"r-\")\n",
    "plt.show()"
   ]
  },
  {
   "cell_type": "markdown",
   "id": "789031b7-0b19-4a32-b40b-ace26422f848",
   "metadata": {},
   "source": [
    "Test mit selbst eingefügtem Text"
   ]
  },
  {
   "cell_type": "code",
   "execution_count": null,
   "id": "95b0dc06-b46d-43dd-832e-64430ae7e414",
   "metadata": {},
   "outputs": [],
   "source": []
  },
  {
   "cell_type": "markdown",
   "id": "5c09eff3-fc9f-45d0-aaa2-5c1fe469bee7",
   "metadata": {},
   "source": []
  },
  {
   "cell_type": "code",
   "execution_count": null,
   "id": "5ba13010-cb94-4772-b716-b8b0e246ab32",
   "metadata": {},
   "outputs": [],
   "source": [
    "learn.load(\"resent_18_stage_6\")"
   ]
  },
  {
   "cell_type": "code",
   "execution_count": null,
   "id": "0f8d4b51-f26a-4934-9493-332b11bc5944",
   "metadata": {},
   "outputs": [],
   "source": [
    "loss = MSELossFlat()"
   ]
  },
  {
   "cell_type": "code",
   "execution_count": null,
   "id": "d97ef387-76d1-4835-be84-176028a32562",
   "metadata": {},
   "outputs": [],
   "source": [
    "good_test_images = get_image_files(task_path/\"test\", folders=[\"good\"])\n",
    "losses_good = []\n",
    "for img_file in good_test_images:\n",
    "    x = TensorImage(PILImage.create(np.array(Image.open(img_file).resize((512,512))))).permute(2,0,1)    \n",
    "    y_hat = learn.predict(x)[0]    \n",
    "    losses_good.append(np.absolute(np.array(y_hat - x)).mean())"
   ]
  },
  {
   "cell_type": "code",
   "execution_count": null,
   "id": "3aa41231-aa60-4f74-8751-425e8bd680bf",
   "metadata": {},
   "outputs": [],
   "source": [
    "anomalie_images = get_image_files(task_path/\"test\", folders=[\"crack\",\"cut\",\"hole\",\"print\"])\n",
    "losses_anomaly = []\n",
    "for img_file in anomalie_images:\n",
    "    x = TensorImage(PILImage.create(np.array(Image.open(img_file).resize((256,256))))).permute(2,0,1)    \n",
    "    y_hat = learn.predict(x)[0]    \n",
    "    losses_anomaly.append(np.absolute(np.array(y_hat - x)).mean())"
   ]
  },
  {
   "cell_type": "code",
   "execution_count": null,
   "id": "545b8f4d-68ad-44de-b415-4620869453d0",
   "metadata": {},
   "outputs": [],
   "source": [
    "\n",
    "losses = []\n",
    "for idx in range(len(dls.train_ds)):\n",
    "    x,y = dls.do_item(idx)\n",
    "    y_hat = learn.predict(x)[0]    \n",
    "    losses.append(np.absolute(np.array(y_hat - y)).mean())"
   ]
  },
  {
   "cell_type": "code",
   "execution_count": null,
   "id": "1ff7e8a5-bddb-4799-a33c-1588c48a5a1f",
   "metadata": {},
   "outputs": [],
   "source": [
    "plt.hist(losses, bins=100)\n",
    "plt.hist(losses_anomaly, bins=100)\n",
    "plt.hist(losses_good, bins=50)\n",
    "plt.show()"
   ]
  },
  {
   "cell_type": "code",
   "execution_count": null,
   "id": "55d5086c-4cb2-417e-ac77-d52683b7e6d6",
   "metadata": {},
   "outputs": [],
   "source": []
  },
  {
   "cell_type": "code",
   "execution_count": null,
   "id": "05ecc53b-f6e3-47f6-b4f8-192cfa2e902c",
   "metadata": {},
   "outputs": [],
   "source": [
    "x = TensorImage(PILImage.create(np.array(Image.open(task_path/\"test\"/\"hole\"/\"001.png\").resize((256,256))))).permute(2,0,1)\n",
    "y_hat = learn.predict(x)[0]\n",
    "#np.absolute(np.array(y_hat - x)).mean()"
   ]
  },
  {
   "cell_type": "code",
   "execution_count": null,
   "id": "c60a8e73-77fe-4749-9f1d-c4b8f8d9397e",
   "metadata": {},
   "outputs": [],
   "source": [
    "plt.imshow(x.permute(1,2,0))"
   ]
  },
  {
   "cell_type": "code",
   "execution_count": null,
   "id": "1ad73acc-1546-4dd6-bf66-1de13cf7ee10",
   "metadata": {},
   "outputs": [],
   "source": [
    "plt.imshow(y_hat.permute(1,2,0))"
   ]
  },
  {
   "cell_type": "code",
   "execution_count": null,
   "id": "891177e0-abd4-4636-9655-772f150c8d17",
   "metadata": {},
   "outputs": [],
   "source": [
    "masked_heatmap"
   ]
  },
  {
   "cell_type": "code",
   "execution_count": null,
   "id": "2c6f577f-038d-4e43-91a1-cff5162c1173",
   "metadata": {},
   "outputs": [],
   "source": [
    "heatmap.max()"
   ]
  },
  {
   "cell_type": "code",
   "execution_count": null,
   "id": "07f1a9f7-d811-4439-ad5c-862a6fb44ecf",
   "metadata": {},
   "outputs": [],
   "source": [
    "plt.imshow(heatmap < heatmap.max()*0.5)"
   ]
  },
  {
   "cell_type": "code",
   "execution_count": null,
   "id": "be1e1974-454e-4363-a268-701e6440854a",
   "metadata": {},
   "outputs": [],
   "source": [
    "heatmap = np.sum(np.absolute(np.array(y_hat - x)),axis=0)\n",
    "kernel = np.ones((5, 5), 'uint8')\n",
    "mask = heatmap > heatmap.max()*0.5\n",
    "mask = cv2.dilate(mask.astype(np.uint8), kernel, iterations=6)\n",
    "mask = cv2.erode(mask, kernel, iterations=6).astype(bool)\n",
    "\n",
    "mask = np.ma.masked_where(mask==False, mask)\n"
   ]
  },
  {
   "cell_type": "code",
   "execution_count": null,
   "id": "fe61a864-5d3d-4cde-baf4-32e583970c9b",
   "metadata": {},
   "outputs": [],
   "source": [
    "mask.max()"
   ]
  },
  {
   "cell_type": "code",
   "execution_count": null,
   "id": "2e8b99da-20d5-4a3a-bfd5-39030d47176f",
   "metadata": {},
   "outputs": [],
   "source": [
    "mask.astype(bool)"
   ]
  },
  {
   "cell_type": "code",
   "execution_count": null,
   "id": "782346e0-a251-4d63-af8d-d53ea8d78516",
   "metadata": {},
   "outputs": [],
   "source": [
    "plt.imshow(mask)"
   ]
  },
  {
   "cell_type": "code",
   "execution_count": null,
   "id": "baaed85e-167d-4935-9ce5-8c860db25214",
   "metadata": {},
   "outputs": [],
   "source": [
    "masked_heatmap.mask.astype(np.uint8)"
   ]
  },
  {
   "cell_type": "code",
   "execution_count": null,
   "id": "5b09b392-ec1f-41b6-bb5d-d630ad17511e",
   "metadata": {},
   "outputs": [],
   "source": [
    "masked_heatmap.mask = dilate_img.astype(bool)"
   ]
  },
  {
   "cell_type": "code",
   "execution_count": null,
   "id": "f799c868-6ecb-4c29-93b0-5d0a3e9a2c14",
   "metadata": {},
   "outputs": [],
   "source": [
    "kernel = np.ones((5, 5), 'uint8')\n",
    "dilate_img = cv2.erode(masked_heatmap.mask.astype(np.uint8), kernel, iterations=6)\n",
    "dilate_img = cv2.dilate(dilate_img, kernel, iterations=6)"
   ]
  },
  {
   "cell_type": "code",
   "execution_count": null,
   "id": "90040e19-5e06-4bc7-a9b6-f665fbc6809f",
   "metadata": {},
   "outputs": [],
   "source": [
    "plt.imshow(dilate_img.astype(bool))"
   ]
  },
  {
   "cell_type": "code",
   "execution_count": null,
   "id": "1d4f6c54-a57a-4dbd-9f88-5d57a651bbef",
   "metadata": {},
   "outputs": [],
   "source": [
    "mask"
   ]
  },
  {
   "cell_type": "code",
   "execution_count": null,
   "id": "33522f84-4891-4a45-bbe4-5f7e515bf991",
   "metadata": {},
   "outputs": [],
   "source": [
    "plt.imshow(x.permute(1,2,0))\n",
    "#plt.imshow(masked_heatmap,  alpha=1.0)\n",
    "plt.imshow(mask, alpha=0.6, cmap=cm.Greens_r)"
   ]
  },
  {
   "cell_type": "code",
   "execution_count": null,
   "id": "79ae6c6f-0daa-41e0-9749-c91394714436",
   "metadata": {},
   "outputs": [],
   "source": [
    "plt.imshow(np.absolute(np.array(y_hat - x))[0], cmap=\"gray\")"
   ]
  },
  {
   "cell_type": "code",
   "execution_count": null,
   "id": "9c1a9e40-e5c4-4b08-b8a8-bc4531f6f9ef",
   "metadata": {},
   "outputs": [],
   "source": [
    "y_hat.shape, x.shape"
   ]
  },
  {
   "cell_type": "code",
   "execution_count": null,
   "id": "89db1b5a-2815-4e9c-9393-edbccd577298",
   "metadata": {},
   "outputs": [],
   "source": [
    "np.absolute(np.array(y_hat - y)).mean()"
   ]
  },
  {
   "cell_type": "code",
   "execution_count": null,
   "id": "210e3705-42ff-4399-bdb7-1c9f099414b3",
   "metadata": {},
   "outputs": [],
   "source": [
    "y_hat.permute(1,2,0)"
   ]
  },
  {
   "cell_type": "code",
   "execution_count": null,
   "id": "08d54db5-b7db-41c8-bf81-ea99011b32ce",
   "metadata": {},
   "outputs": [],
   "source": [
    "plt.imshow(x.permute(1,2,0))"
   ]
  },
  {
   "cell_type": "code",
   "execution_count": null,
   "id": "1c864d4f-e9a1-4232-978c-fcc479ebcd56",
   "metadata": {},
   "outputs": [],
   "source": [
    "plt.imshow(y_hat.permute(1,2,0))"
   ]
  },
  {
   "cell_type": "code",
   "execution_count": null,
   "id": "62a7fed6-2226-44c0-a606-1f5f72f9aab7",
   "metadata": {},
   "outputs": [],
   "source": [
    "y_hat."
   ]
  },
  {
   "cell_type": "code",
   "execution_count": null,
   "id": "2e47b4b1-4550-4b51-9d44-b1ff4cb7f8dd",
   "metadata": {},
   "outputs": [],
   "source": [
    "plt.imshow(np.absolute(np.array(y_hat - x))[2], cmap=\"gray\")"
   ]
  },
  {
   "cell_type": "code",
   "execution_count": null,
   "id": "6aeefe92-8ffb-4fa9-80f3-5ac53adb1f65",
   "metadata": {},
   "outputs": [],
   "source": [
    "\n",
    "for item in range(len(dls.train_ds)):\n",
    "    dls.do_item(500)[0]"
   ]
  },
  {
   "cell_type": "code",
   "execution_count": null,
   "id": "b785fc21-a57f-4d2f-b717-30ffd60cfeaf",
   "metadata": {},
   "outputs": [],
   "source": [
    "learn.dls.train_ds[0][0].size"
   ]
  },
  {
   "cell_type": "code",
   "execution_count": null,
   "id": "5e9153e4-6875-49fa-8a7a-493b3a9b76ea",
   "metadata": {},
   "outputs": [],
   "source": [
    "np.squeeze(np.array(prediction[0])).astype(np.uint8)"
   ]
  },
  {
   "cell_type": "code",
   "execution_count": null,
   "id": "98bc012f-96b9-4706-9a42-0ada0cefa70e",
   "metadata": {},
   "outputs": [],
   "source": [
    "PILImageBW.create(np.squeeze(np.array(prediction[0])).astype(np.uint8))"
   ]
  },
  {
   "cell_type": "code",
   "execution_count": null,
   "id": "889fddec-5e35-4557-b1ae-0c2a7c467ce5",
   "metadata": {},
   "outputs": [],
   "source": [
    "img = PILImage.create(np.array(Image.open(task_path/\"test\"/\"hole\"/\"002.png\").resize((512,512))))\n",
    "prediction = learn.predict(img)\n",
    "reconstructed_img = PILImageBW.create(np.squeeze(np.array(prediction[0])).astype(np.uint8))\n",
    "loss = prediction[1]"
   ]
  },
  {
   "cell_type": "code",
   "execution_count": null,
   "id": "abffed80-7881-4815-9fdd-33be84deb7e5",
   "metadata": {},
   "outputs": [],
   "source": [
    "np.squeeze(np.array(prediction[0])).shape"
   ]
  },
  {
   "cell_type": "code",
   "execution_count": null,
   "id": "1365ddf5-1faf-43a0-902b-c365afeef248",
   "metadata": {},
   "outputs": [],
   "source": [
    "PILImage.create(prediction[0])"
   ]
  },
  {
   "cell_type": "code",
   "execution_count": null,
   "id": "b04f722c-3e0b-48a1-8972-31c616be9958",
   "metadata": {},
   "outputs": [],
   "source": [
    "len(learn.predict())"
   ]
  },
  {
   "cell_type": "code",
   "execution_count": null,
   "id": "3b39b756-902e-410a-9538-42f21391e266",
   "metadata": {},
   "outputs": [],
   "source": []
  },
  {
   "cell_type": "code",
   "execution_count": null,
   "id": "dcd2f1ec-2fa6-43c9-a960-895e020b507d",
   "metadata": {},
   "outputs": [],
   "source": [
    "TensorImage(img).size()"
   ]
  },
  {
   "cell_type": "code",
   "execution_count": null,
   "id": "02ef20ef-3f42-4a2a-9bfa-b57e5ac3dd04",
   "metadata": {},
   "outputs": [],
   "source": [
    "loss(prediction[0].permute(1,2,0),TensorImage(img))"
   ]
  },
  {
   "cell_type": "code",
   "execution_count": null,
   "id": "b60a8bf6-4b16-43ec-8716-e19053dcb55a",
   "metadata": {},
   "outputs": [],
   "source": [
    "x,y = learn.dls.one_batch()"
   ]
  },
  {
   "cell_type": "code",
   "execution_count": null,
   "id": "b676414c-e4ae-4238-af10-ed78a23ce294",
   "metadata": {},
   "outputs": [],
   "source": [
    "x.shape, y.shape"
   ]
  },
  {
   "cell_type": "code",
   "execution_count": null,
   "id": "2a71e83f-b4f6-4bb3-9e08-dad3722f9218",
   "metadata": {},
   "outputs": [],
   "source": [
    "x.shape"
   ]
  },
  {
   "cell_type": "code",
   "execution_count": null,
   "id": "59558e6d-df0b-43e8-a7a0-7a83c9eb7e4b",
   "metadata": {},
   "outputs": [],
   "source": [
    "y_hat = learn.model(x)"
   ]
  },
  {
   "cell_type": "code",
   "execution_count": null,
   "id": "71c2f20d-e78b-4a3c-ada5-72af943b5b34",
   "metadata": {},
   "outputs": [],
   "source": [
    "loss(y_hat,y)"
   ]
  },
  {
   "cell_type": "code",
   "execution_count": null,
   "id": "a8b6a6f7-2863-445c-b589-11380d7d5b68",
   "metadata": {},
   "outputs": [],
   "source": [
    "learn.dls."
   ]
  },
  {
   "cell_type": "code",
   "execution_count": null,
   "id": "1b2e2ae7-beab-405f-8c09-4e54a735d4d5",
   "metadata": {},
   "outputs": [],
   "source": [
    "learn.dls.create_item([img])"
   ]
  },
  {
   "cell_type": "code",
   "execution_count": null,
   "id": "47e647bf-bdac-48bc-ac3a-ae1b09a2f1d2",
   "metadata": {},
   "outputs": [],
   "source": [
    "img = PILImage.create(np.array(Image.open(task_path/\"train\"/\"good\"/\"002.png\").resize((512,512))))"
   ]
  },
  {
   "cell_type": "code",
   "execution_count": null,
   "id": "b521dc6d-e809-4710-9fce-1f999b132728",
   "metadata": {},
   "outputs": [],
   "source": [
    "img = PILImage.create(np.array(Image.open(task_path/\"train\"/\"good\"/\"002.png\").resize((512,512))))\n",
    "prediction = learn.predict(img)\n",
    "loss_value = loss(prediction[0].permute(1,2,0),TensorImage(img))"
   ]
  },
  {
   "cell_type": "code",
   "execution_count": null,
   "id": "117806be-9075-477a-a141-731e4bac9907",
   "metadata": {},
   "outputs": [],
   "source": [
    "loss_value.item()"
   ]
  },
  {
   "cell_type": "code",
   "execution_count": null,
   "id": "ce319373-5aa1-4f64-9a2f-3e41b8babc16",
   "metadata": {},
   "outputs": [],
   "source": [
    "img = PILImage.create(np.array(Image.open(task_path/\"test\"/\"hole\"/\"000.png\").resize((512,512))))\n",
    "prediction = learn.predict(img)\n",
    "reconstructed_img = PILImage.create(np.squeeze(np.array(prediction[0])).astype(np.uint8))\n",
    "loss = torch.squeeze(prediction[1])\n",
    "\n",
    "mask = np.zeros(img.size, dtype=bool)\n",
    "for idx in [0,1,2]:\n",
    "    treshold = loss[idx].max()*0.8\n",
    "    mask = np.logical_or(mask, np.array(loss[idx] > treshold))\n",
    "\n",
    "contours, hierarchy = cv2.findContours(image=mask.astype(np.uint8), mode=cv2.RETR_TREE, method=cv2.CHAIN_APPROX_NONE)    \n",
    "\n",
    "f,axes = plt.subplots(ncols=3,nrows=1,figsize=(20,8))\n",
    "axes[0].imshow(img, cmap=\"gray\")\n",
    "axes[1].imshow(reconstructed_img, cmap=\"gray\")\n",
    "\n",
    "axes[2].imshow(img, cmap=\"gray\")\n",
    "#masked_data = np.ma.masked_where(mask == False, mask)\n",
    "#plt.imshow(masked_data, interpolation='none', cmap=cm.Reds,  alpha=0.7)\n",
    "for cont in contours:\n",
    "    if len(cont) == 1:\n",
    "        continue\n",
    "    cont = np.squeeze(cont)    \n",
    "    axes[2].plot(cont[:,0], cont[:,1], \"r-\")\n",
    "plt.show()"
   ]
  },
  {
   "cell_type": "code",
   "execution_count": null,
   "id": "984fc086-f9fe-4adf-976d-6422eeb6242c",
   "metadata": {},
   "outputs": [],
   "source": []
  }
 ],
 "metadata": {
  "kernelspec": {
   "display_name": "Python 3 (ipykernel)",
   "language": "python",
   "name": "python3"
  },
  "language_info": {
   "codemirror_mode": {
    "name": "ipython",
    "version": 3
   },
   "file_extension": ".py",
   "mimetype": "text/x-python",
   "name": "python",
   "nbconvert_exporter": "python",
   "pygments_lexer": "ipython3",
   "version": "3.8.13"
  }
 },
 "nbformat": 4,
 "nbformat_minor": 5
}
