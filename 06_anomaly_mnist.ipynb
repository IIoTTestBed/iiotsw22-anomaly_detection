{
 "cells": [
  {
   "cell_type": "code",
   "execution_count": null,
   "id": "58e3bdc9-3884-44b9-9b8e-96d8e41afb69",
   "metadata": {},
   "outputs": [],
   "source": [
    "import fastai\n",
    "from fastai.vision.all import *"
   ]
  },
  {
   "cell_type": "code",
   "execution_count": null,
   "id": "13d9ffa1-eeef-4b3f-b2bc-98b11c7bf29a",
   "metadata": {},
   "outputs": [],
   "source": [
    "path = untar_data(URLs.MNIST_SAMPLE)"
   ]
  },
  {
   "cell_type": "code",
   "execution_count": null,
   "id": "b35272d8-cbf8-4d08-bb79-f130e15ff52c",
   "metadata": {},
   "outputs": [],
   "source": [
    "path.ls()"
   ]
  },
  {
   "cell_type": "code",
   "execution_count": null,
   "id": "ff15746c-1714-49a8-b652-db65bbbc35f8",
   "metadata": {},
   "outputs": [],
   "source": [
    "btfms = aug_transforms()+[Normalize.from_stats(*mnist_stats)]\n",
    "btfms"
   ]
  },
  {
   "cell_type": "code",
   "execution_count": null,
   "id": "10303f00-e9f2-447c-8723-6b545e96a715",
   "metadata": {},
   "outputs": [],
   "source": [
    "def image2image(x):\n",
    "    return x"
   ]
  },
  {
   "cell_type": "code",
   "execution_count": null,
   "id": "e6ced539-52b6-48f7-9a7d-f9121e61cce7",
   "metadata": {},
   "outputs": [],
   "source": [
    "block = DataBlock(blocks=(ImageBlock(cls=PILImageBW), ImageBlock(cls=PILImageBW)),\n",
    "                  get_items = get_image_files,\n",
    "                  get_y = image2image,\n",
    "                  splitter=GrandparentSplitter(),\n",
    "                  item_tfms=Resize(32),\n",
    "                  batch_tfms = btfms,\n",
    ")"
   ]
  },
  {
   "cell_type": "code",
   "execution_count": null,
   "id": "8f8ee277-3289-4948-9f29-3803dc39cb94",
   "metadata": {},
   "outputs": [],
   "source": [
    "dls = block.dataloaders(path, batch_size=256)"
   ]
  },
  {
   "cell_type": "code",
   "execution_count": null,
   "id": "34bd6fae-f4ea-4e03-9182-2679f1043e49",
   "metadata": {},
   "outputs": [],
   "source": [
    "dls.show_batch()"
   ]
  },
  {
   "cell_type": "code",
   "execution_count": null,
   "id": "ae6bc7be-dbf0-4330-9549-ff95115bb050",
   "metadata": {},
   "outputs": [],
   "source": [
    "arch = create_body(xresnet18(pretrained=True), n_in=1).cuda()"
   ]
  },
  {
   "cell_type": "code",
   "execution_count": null,
   "id": "02d5ac08-d1d4-42f7-ae58-c1c7ed46785f",
   "metadata": {},
   "outputs": [],
   "source": [
    "x,y = dls.one_batch()\n",
    "x.shape, y.shape"
   ]
  },
  {
   "cell_type": "code",
   "execution_count": null,
   "id": "8585cdc9-7229-4791-b093-bdd3fee0fa41",
   "metadata": {},
   "outputs": [],
   "source": [
    "arch(x).shape"
   ]
  },
  {
   "cell_type": "code",
   "execution_count": null,
   "id": "39856761-8b36-4129-8dbe-171a43c1772b",
   "metadata": {},
   "outputs": [],
   "source": [
    "class UpsampleBlock(Module):\n",
    "    def __init__(self, up_in_c:int, final_div:bool=True, blur:bool=False, leaky:float=None, **kwargs):\n",
    "        self.shuf = PixelShuffle_ICNR(up_in_c, up_in_c//2, blur=blur, **kwargs)\n",
    "        ni = up_in_c//2\n",
    "        nf = ni if final_div else ni//2\n",
    "        self.conv1 = ConvLayer(ni, nf, **kwargs)\n",
    "        self.conv2 = ConvLayer(nf, nf, **kwargs)\n",
    "        self.relu = nn.ReLU()\n",
    "\n",
    "    def forward(self, up_in:Tensor) -> Tensor:\n",
    "        up_out = self.shuf(up_in)\n",
    "        cat_x = self.relu(up_out)\n",
    "        return self.conv2(self.conv1(cat_x))"
   ]
  },
  {
   "cell_type": "code",
   "execution_count": null,
   "id": "7e48cbd3-1ee7-4f8e-8109-4e4bf0059df6",
   "metadata": {},
   "outputs": [],
   "source": [
    "def decoder_resnet(y_range, n_out=1):\n",
    "    return nn.Sequential(UpsampleBlock(512), \n",
    "                         UpsampleBlock(256),\n",
    "                         UpsampleBlock(128),\n",
    "                         UpsampleBlock(64),\n",
    "                         UpsampleBlock(32),\n",
    "                         nn.Conv2d(16, n_out, 1),\n",
    "                         SigmoidRange(*y_range)\n",
    "                        )\n",
    "                         \n",
    "def autoencoder(encoder, y_range): return nn.Sequential(encoder, decoder_resnet(y_range))"
   ]
  },
  {
   "cell_type": "code",
   "execution_count": null,
   "id": "5819c58e-fbc1-494b-a62d-820748df6aef",
   "metadata": {},
   "outputs": [],
   "source": [
    "y_range = (-3.,3.)\n",
    "ac_resnet = autoencoder(arch, y_range).cuda()"
   ]
  },
  {
   "cell_type": "code",
   "execution_count": null,
   "id": "8796a022-5580-4aff-9f4c-46d2efebfa49",
   "metadata": {},
   "outputs": [],
   "source": [
    "dec = decoder_resnet(y_range).cuda()"
   ]
  },
  {
   "cell_type": "code",
   "execution_count": null,
   "id": "af6b6a31-069d-425f-b76e-693fa014cefa",
   "metadata": {},
   "outputs": [],
   "source": [
    "dec(arch(x)).shape"
   ]
  },
  {
   "cell_type": "code",
   "execution_count": null,
   "id": "f2b2be97-1d4e-4e96-a5ce-63b0b14de62f",
   "metadata": {},
   "outputs": [],
   "source": [
    "learn = Learner(dls, ac_resnet, loss_func=MSELossFlat())"
   ]
  },
  {
   "cell_type": "code",
   "execution_count": null,
   "id": "f36cf142-00a0-4546-97c3-1c953c9fd7d1",
   "metadata": {},
   "outputs": [],
   "source": [
    "learn.fit_one_cycle(1)"
   ]
  },
  {
   "cell_type": "code",
   "execution_count": null,
   "id": "5a0f2cb9-4a10-4335-99fc-d58545a77343",
   "metadata": {},
   "outputs": [],
   "source": [
    "learn.show_results()"
   ]
  },
  {
   "cell_type": "code",
   "execution_count": null,
   "id": "b4381b57-130d-425c-bdd0-150b0fdfd09e",
   "metadata": {},
   "outputs": [],
   "source": [
    "learn.fit_one_cycle(10)"
   ]
  },
  {
   "cell_type": "code",
   "execution_count": null,
   "id": "b0e3513f-6d1e-4339-999a-356c01bea853",
   "metadata": {},
   "outputs": [],
   "source": [
    "learn.show_results()"
   ]
  },
  {
   "cell_type": "code",
   "execution_count": null,
   "id": "d6cba27c-662f-4bb2-a18b-8c73ff26c517",
   "metadata": {},
   "outputs": [],
   "source": []
  }
 ],
 "metadata": {
  "kernelspec": {
   "display_name": "Python 3 (ipykernel)",
   "language": "python",
   "name": "python3"
  },
  "language_info": {
   "codemirror_mode": {
    "name": "ipython",
    "version": 3
   },
   "file_extension": ".py",
   "mimetype": "text/x-python",
   "name": "python",
   "nbconvert_exporter": "python",
   "pygments_lexer": "ipython3",
   "version": "3.8.13"
  }
 },
 "nbformat": 4,
 "nbformat_minor": 5
}
